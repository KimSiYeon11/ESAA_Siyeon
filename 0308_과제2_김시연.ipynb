{
  "nbformat": 4,
  "nbformat_minor": 5,
  "metadata": {
    "colab": {
      "provenance": [],
      "collapsed_sections": [
        "51898680"
      ]
    },
    "language_info": {
      "name": "python"
    },
    "kernelspec": {
      "name": "python3",
      "display_name": "Python 3"
    }
  },
  "cells": [
    {
      "cell_type": "markdown",
      "metadata": {
        "id": "bf79c78b"
      },
      "source": [
        "# Numpy exercises\n",
        "\n",
        "This is a collection of exercises that have been collected in the numpy mailing list, on stack overflow\n",
        "and in the numpy documentation. The goal of this collection is to offer a quick reference for both old\n",
        "and new users but also to provide a set of exercises for those who teach.\n",
        "\n",
        "\n",
        "If you find an error or think you've a better way to solve some of them, feel\n",
        "free to open an issue at <https://github.com/rougier/numpy-100>."
      ],
      "id": "bf79c78b"
    },
    {
      "cell_type": "markdown",
      "metadata": {
        "id": "8536e059"
      },
      "source": [
        "File automatically generated. See the documentation to update questions/answers/hints programmatically."
      ],
      "id": "8536e059"
    },
    {
      "cell_type": "markdown",
      "metadata": {
        "id": "017db353"
      },
      "source": [
        "#### 1. Import the numpy package under the name `np` (★☆☆)"
      ],
      "id": "017db353"
    },
    {
      "cell_type": "code",
      "metadata": {
        "id": "68182a76"
      },
      "source": [
        "import numpy as np"
      ],
      "id": "68182a76",
      "execution_count": 1,
      "outputs": []
    },
    {
      "cell_type": "markdown",
      "metadata": {
        "id": "46950f4f"
      },
      "source": [
        "#### 2. Print the numpy version and the configuration (★☆☆)"
      ],
      "id": "46950f4f"
    },
    {
      "cell_type": "code",
      "metadata": {
        "id": "2a9f5838",
        "colab": {
          "base_uri": "https://localhost:8080/"
        },
        "outputId": "acb304b5-0777-4d56-953d-20d4a6b2777d"
      },
      "source": [
        "print(\"NumPy 버전:\", np.__version__)\n",
        "print(\"\\nNumPy 구성:\")\n",
        "print(np.show_config())"
      ],
      "id": "2a9f5838",
      "execution_count": 2,
      "outputs": [
        {
          "output_type": "stream",
          "name": "stdout",
          "text": [
            "NumPy 버전: 1.25.2\n",
            "\n",
            "NumPy 구성:\n",
            "openblas64__info:\n",
            "    libraries = ['openblas64_', 'openblas64_']\n",
            "    library_dirs = ['/usr/local/lib']\n",
            "    language = c\n",
            "    define_macros = [('HAVE_CBLAS', None), ('BLAS_SYMBOL_SUFFIX', '64_'), ('HAVE_BLAS_ILP64', None)]\n",
            "    runtime_library_dirs = ['/usr/local/lib']\n",
            "blas_ilp64_opt_info:\n",
            "    libraries = ['openblas64_', 'openblas64_']\n",
            "    library_dirs = ['/usr/local/lib']\n",
            "    language = c\n",
            "    define_macros = [('HAVE_CBLAS', None), ('BLAS_SYMBOL_SUFFIX', '64_'), ('HAVE_BLAS_ILP64', None)]\n",
            "    runtime_library_dirs = ['/usr/local/lib']\n",
            "openblas64__lapack_info:\n",
            "    libraries = ['openblas64_', 'openblas64_']\n",
            "    library_dirs = ['/usr/local/lib']\n",
            "    language = c\n",
            "    define_macros = [('HAVE_CBLAS', None), ('BLAS_SYMBOL_SUFFIX', '64_'), ('HAVE_BLAS_ILP64', None), ('HAVE_LAPACKE', None)]\n",
            "    runtime_library_dirs = ['/usr/local/lib']\n",
            "lapack_ilp64_opt_info:\n",
            "    libraries = ['openblas64_', 'openblas64_']\n",
            "    library_dirs = ['/usr/local/lib']\n",
            "    language = c\n",
            "    define_macros = [('HAVE_CBLAS', None), ('BLAS_SYMBOL_SUFFIX', '64_'), ('HAVE_BLAS_ILP64', None), ('HAVE_LAPACKE', None)]\n",
            "    runtime_library_dirs = ['/usr/local/lib']\n",
            "Supported SIMD extensions in this NumPy install:\n",
            "    baseline = SSE,SSE2,SSE3\n",
            "    found = SSSE3,SSE41,POPCNT,SSE42,AVX,F16C,FMA3,AVX2\n",
            "    not found = AVX512F,AVX512CD,AVX512_KNL,AVX512_KNM,AVX512_SKX,AVX512_CLX,AVX512_CNL,AVX512_ICL\n",
            "None\n"
          ]
        }
      ]
    },
    {
      "cell_type": "markdown",
      "metadata": {
        "id": "e3c20b3d"
      },
      "source": [
        "#### 3. Create a null vector of size 10 (★☆☆)"
      ],
      "id": "e3c20b3d"
    },
    {
      "cell_type": "code",
      "metadata": {
        "id": "8a758bcf",
        "colab": {
          "base_uri": "https://localhost:8080/"
        },
        "outputId": "5406cb3a-bee2-4c66-83d0-c6ced8d1e1b4"
      },
      "source": [
        "np.zeros(10)"
      ],
      "id": "8a758bcf",
      "execution_count": 4,
      "outputs": [
        {
          "output_type": "execute_result",
          "data": {
            "text/plain": [
              "array([0., 0., 0., 0., 0., 0., 0., 0., 0., 0.])"
            ]
          },
          "metadata": {},
          "execution_count": 4
        }
      ]
    },
    {
      "cell_type": "markdown",
      "metadata": {
        "id": "b15a879f"
      },
      "source": [
        "#### 4. How to find the memory size of any array (★☆☆)"
      ],
      "id": "b15a879f"
    },
    {
      "cell_type": "code",
      "metadata": {
        "id": "1cc3cbc5",
        "colab": {
          "base_uri": "https://localhost:8080/"
        },
        "outputId": "2d1ae362-a676-4505-b0a1-5330cbe05195"
      },
      "source": [
        "a1= np.array([1,2,3])\n",
        "print(\"a1의 메모리사이즈: \",a1.nbytes)"
      ],
      "id": "1cc3cbc5",
      "execution_count": 6,
      "outputs": [
        {
          "output_type": "stream",
          "name": "stdout",
          "text": [
            "a1의 메모리사이즈:  24\n"
          ]
        }
      ]
    },
    {
      "cell_type": "markdown",
      "metadata": {
        "id": "0b16cd77"
      },
      "source": [
        "#### 5. Create a null vector of size 10 but the fifth value which is 1 (★☆☆)"
      ],
      "id": "0b16cd77"
    },
    {
      "cell_type": "code",
      "metadata": {
        "id": "4d9b5975",
        "colab": {
          "base_uri": "https://localhost:8080/"
        },
        "outputId": "09005839-23d8-4463-fc4b-a81dfe72ec5c"
      },
      "source": [
        "n1 = np.zeros(10)\n",
        "n1[4]=1\n",
        "n1"
      ],
      "id": "4d9b5975",
      "execution_count": 8,
      "outputs": [
        {
          "output_type": "execute_result",
          "data": {
            "text/plain": [
              "array([0., 0., 0., 0., 1., 0., 0., 0., 0., 0.])"
            ]
          },
          "metadata": {},
          "execution_count": 8
        }
      ]
    },
    {
      "cell_type": "markdown",
      "metadata": {
        "id": "782d4c77"
      },
      "source": [
        "#### 6. Create a vector with values ranging from 10 to 49 (★☆☆)"
      ],
      "id": "782d4c77"
    },
    {
      "cell_type": "code",
      "metadata": {
        "id": "5dbe1a08",
        "colab": {
          "base_uri": "https://localhost:8080/"
        },
        "outputId": "62929726-b9d5-4833-b144-589f95bd0b01"
      },
      "source": [
        "a2=np.arange(10, 50)\n",
        "a2"
      ],
      "id": "5dbe1a08",
      "execution_count": 12,
      "outputs": [
        {
          "output_type": "execute_result",
          "data": {
            "text/plain": [
              "array([10, 11, 12, 13, 14, 15, 16, 17, 18, 19, 20, 21, 22, 23, 24, 25, 26,\n",
              "       27, 28, 29, 30, 31, 32, 33, 34, 35, 36, 37, 38, 39, 40, 41, 42, 43,\n",
              "       44, 45, 46, 47, 48, 49])"
            ]
          },
          "metadata": {},
          "execution_count": 12
        }
      ]
    },
    {
      "cell_type": "markdown",
      "metadata": {
        "id": "48d48f01"
      },
      "source": [
        "#### 7. Reverse a vector (first element becomes last) (★☆☆)"
      ],
      "id": "48d48f01"
    },
    {
      "cell_type": "code",
      "metadata": {
        "id": "3ed233e7",
        "colab": {
          "base_uri": "https://localhost:8080/"
        },
        "outputId": "c5c465f1-13ea-4ccd-f882-e6a3a3a85801"
      },
      "source": [
        "reversed_a2 = a2[::-1]\n",
        "reversed_a2"
      ],
      "id": "3ed233e7",
      "execution_count": 17,
      "outputs": [
        {
          "output_type": "execute_result",
          "data": {
            "text/plain": [
              "array([49, 48, 47, 46, 45, 44, 43, 42, 41, 40, 39, 38, 37, 36, 35, 34, 33,\n",
              "       32, 31, 30, 29, 28, 27, 26, 25, 24, 23, 22, 21, 20, 19, 18, 17, 16,\n",
              "       15, 14, 13, 12, 11, 10])"
            ]
          },
          "metadata": {},
          "execution_count": 17
        }
      ]
    },
    {
      "cell_type": "markdown",
      "source": [
        "sorted함수나 reverse 함수는 ndarray에 사용 불가능"
      ],
      "metadata": {
        "id": "_a-ILQkJckFM"
      },
      "id": "_a-ILQkJckFM"
    },
    {
      "cell_type": "markdown",
      "metadata": {
        "id": "4fa39382"
      },
      "source": [
        "#### 8. Create a 3x3 matrix with values ranging from 0 to 8 (★☆☆)"
      ],
      "id": "4fa39382"
    },
    {
      "cell_type": "code",
      "metadata": {
        "id": "c97757ec",
        "colab": {
          "base_uri": "https://localhost:8080/"
        },
        "outputId": "9c810558-16f8-4229-c796-0029ed3d960a"
      },
      "source": [
        "a3= np.arange(9)\n",
        "m1=a3.reshape(3,3)\n",
        "m1"
      ],
      "id": "c97757ec",
      "execution_count": 19,
      "outputs": [
        {
          "output_type": "execute_result",
          "data": {
            "text/plain": [
              "array([[0, 1, 2],\n",
              "       [3, 4, 5],\n",
              "       [6, 7, 8]])"
            ]
          },
          "metadata": {},
          "execution_count": 19
        }
      ]
    },
    {
      "cell_type": "markdown",
      "metadata": {
        "id": "da64551a"
      },
      "source": [
        "#### 9. Find indices of non-zero elements from [1,2,0,0,4,0] (★☆☆)"
      ],
      "id": "da64551a"
    },
    {
      "cell_type": "code",
      "metadata": {
        "id": "327f7adb",
        "colab": {
          "base_uri": "https://localhost:8080/"
        },
        "outputId": "f4fc946c-523c-4bbe-d22e-17410c57cb63"
      },
      "source": [
        "a4= np.array([1,2,0,0,4,0])\n",
        "a4.nonzero()"
      ],
      "id": "327f7adb",
      "execution_count": 20,
      "outputs": [
        {
          "output_type": "execute_result",
          "data": {
            "text/plain": [
              "(array([0, 1, 4]),)"
            ]
          },
          "metadata": {},
          "execution_count": 20
        }
      ]
    },
    {
      "cell_type": "markdown",
      "metadata": {
        "id": "f89d9c9e"
      },
      "source": [
        "#### 10. Create a 3x3 identity matrix (★☆☆)\n",
        "Hint : identity & eye, try to use 'help' to learn how to use two functions of numpy"
      ],
      "id": "f89d9c9e"
    },
    {
      "cell_type": "code",
      "metadata": {
        "id": "ba625832",
        "colab": {
          "base_uri": "https://localhost:8080/"
        },
        "outputId": "76754837-28aa-4071-dc24-1717d7aa4341"
      },
      "source": [
        "i1 = np.eye(3)\n",
        "i1"
      ],
      "id": "ba625832",
      "execution_count": 22,
      "outputs": [
        {
          "output_type": "execute_result",
          "data": {
            "text/plain": [
              "array([[1., 0., 0.],\n",
              "       [0., 1., 0.],\n",
              "       [0., 0., 1.]])"
            ]
          },
          "metadata": {},
          "execution_count": 22
        }
      ]
    },
    {
      "cell_type": "code",
      "source": [
        "i2=np.identity(3)\n",
        "i2"
      ],
      "metadata": {
        "colab": {
          "base_uri": "https://localhost:8080/"
        },
        "id": "y9p6b68odGPA",
        "outputId": "35055228-37fa-4e9c-cfec-911417aa0d6d"
      },
      "id": "y9p6b68odGPA",
      "execution_count": 23,
      "outputs": [
        {
          "output_type": "execute_result",
          "data": {
            "text/plain": [
              "array([[1., 0., 0.],\n",
              "       [0., 1., 0.],\n",
              "       [0., 0., 1.]])"
            ]
          },
          "metadata": {},
          "execution_count": 23
        }
      ]
    },
    {
      "cell_type": "markdown",
      "metadata": {
        "id": "7e44c6fa"
      },
      "source": [
        "#### 11. Create a 3x3x3 array with random values (★☆☆)\n",
        "Hint : numpy.random.random"
      ],
      "id": "7e44c6fa"
    },
    {
      "cell_type": "code",
      "metadata": {
        "id": "1cb3dddf",
        "colab": {
          "base_uri": "https://localhost:8080/"
        },
        "outputId": "b8d5c406-f1db-43aa-bd21-6b07736f33d6"
      },
      "source": [
        "r1= np.random.random((3,3,3))\n",
        "r1"
      ],
      "id": "1cb3dddf",
      "execution_count": 26,
      "outputs": [
        {
          "output_type": "execute_result",
          "data": {
            "text/plain": [
              "array([[[0.90802958, 0.16082969, 0.63529441],\n",
              "        [0.88619143, 0.61995578, 0.96234256],\n",
              "        [0.78978399, 0.74073872, 0.29846095]],\n",
              "\n",
              "       [[0.82279318, 0.75069652, 0.87033868],\n",
              "        [0.18167097, 0.77223712, 0.25555268],\n",
              "        [0.6257444 , 0.43587326, 0.48240029]],\n",
              "\n",
              "       [[0.99453344, 0.99362485, 0.77002048],\n",
              "        [0.87127916, 0.2209    , 0.9735858 ],\n",
              "        [0.87646631, 0.30987505, 0.2425196 ]]])"
            ]
          },
          "metadata": {},
          "execution_count": 26
        }
      ]
    },
    {
      "cell_type": "markdown",
      "metadata": {
        "id": "13c5928c"
      },
      "source": [
        "#### 12. Create a 10x10 array with random values and find the **min**imum and **max**imum values (★☆☆)"
      ],
      "id": "13c5928c"
    },
    {
      "cell_type": "code",
      "metadata": {
        "id": "911c9b93",
        "colab": {
          "base_uri": "https://localhost:8080/"
        },
        "outputId": "39b6bb05-bcfc-4989-d60d-789fd1d8c21e"
      },
      "source": [
        "r2=np.random.random((10,10))\n",
        "print(r2)\n",
        "print(\"최솟값:\", r2.min())\n",
        "print(\"최댓값:\", r2.max())"
      ],
      "id": "911c9b93",
      "execution_count": 28,
      "outputs": [
        {
          "output_type": "stream",
          "name": "stdout",
          "text": [
            "[[0.7599122  0.40354304 0.66284665 0.52967356 0.43281612 0.24863673\n",
            "  0.86654787 0.24499955 0.43609677 0.93335478]\n",
            " [0.99221742 0.62590594 0.38284334 0.00348588 0.76514271 0.58951899\n",
            "  0.82389465 0.08353948 0.42435563 0.81723992]\n",
            " [0.97978249 0.66108174 0.86601577 0.99801485 0.15535399 0.20781346\n",
            "  0.80581844 0.39471062 0.85015221 0.05259875]\n",
            " [0.72006272 0.21405588 0.3651158  0.72897999 0.65762761 0.91853613\n",
            "  0.95839782 0.81095671 0.72144965 0.1233245 ]\n",
            " [0.07743644 0.81560875 0.88020593 0.30877616 0.06900207 0.1628913\n",
            "  0.71585347 0.868651   0.57823832 0.97957484]\n",
            " [0.88096537 0.36700849 0.38956112 0.74698051 0.57961783 0.59157837\n",
            "  0.81325194 0.29123364 0.09330471 0.81569534]\n",
            " [0.66067106 0.77641965 0.28446145 0.90940278 0.68922914 0.46695717\n",
            "  0.24429969 0.14716758 0.48992006 0.23728197]\n",
            " [0.58605329 0.74531705 0.66307549 0.63292735 0.346695   0.33949635\n",
            "  0.66943095 0.57255659 0.61376995 0.18695069]\n",
            " [0.89564031 0.43804759 0.90303666 0.80863916 0.76777283 0.17214106\n",
            "  0.60654781 0.6156612  0.78203113 0.3975985 ]\n",
            " [0.96456647 0.05234451 0.18565983 0.51905976 0.64512751 0.22055433\n",
            "  0.06908786 0.95946366 0.14695601 0.64291982]]\n",
            "최솟값: 0.0034858776758295296\n",
            "최댓값: 0.9980148536464587\n"
          ]
        }
      ]
    },
    {
      "cell_type": "markdown",
      "metadata": {
        "id": "3fa2e461"
      },
      "source": [
        "#### 13. Create a random vector of size 30 and find the **mean** value (★☆☆)"
      ],
      "id": "3fa2e461"
    },
    {
      "cell_type": "code",
      "metadata": {
        "id": "323eb38a",
        "colab": {
          "base_uri": "https://localhost:8080/"
        },
        "outputId": "be5366ac-556e-4322-abc4-045ee2c56662"
      },
      "source": [
        "r3= np.random.random(30)\n",
        "print(r3.mean())"
      ],
      "id": "323eb38a",
      "execution_count": 29,
      "outputs": [
        {
          "output_type": "stream",
          "name": "stdout",
          "text": [
            "0.5146175052945161\n"
          ]
        }
      ]
    },
    {
      "cell_type": "markdown",
      "metadata": {
        "id": "73f7a549"
      },
      "source": [
        "#### 14. Create a 2d array with 1 on the border and 0 inside (★☆☆)"
      ],
      "id": "73f7a549"
    },
    {
      "cell_type": "code",
      "metadata": {
        "id": "e3a6807d",
        "colab": {
          "base_uri": "https://localhost:8080/"
        },
        "outputId": "a72d148c-4a96-4b72-9042-be611a845bb4"
      },
      "source": [
        "n= np.random.randint(1,10)\n",
        "a2 = np.ones(n*n)\n",
        "m2 = a2.reshape(n,n)\n",
        "m2[1:-1,1:-1] = 0\n",
        "m2"
      ],
      "id": "e3a6807d",
      "execution_count": 34,
      "outputs": [
        {
          "output_type": "execute_result",
          "data": {
            "text/plain": [
              "array([[1., 1., 1., 1., 1., 1., 1., 1., 1.],\n",
              "       [1., 0., 0., 0., 0., 0., 0., 0., 1.],\n",
              "       [1., 0., 0., 0., 0., 0., 0., 0., 1.],\n",
              "       [1., 0., 0., 0., 0., 0., 0., 0., 1.],\n",
              "       [1., 0., 0., 0., 0., 0., 0., 0., 1.],\n",
              "       [1., 0., 0., 0., 0., 0., 0., 0., 1.],\n",
              "       [1., 0., 0., 0., 0., 0., 0., 0., 1.],\n",
              "       [1., 0., 0., 0., 0., 0., 0., 0., 1.],\n",
              "       [1., 1., 1., 1., 1., 1., 1., 1., 1.]])"
            ]
          },
          "metadata": {},
          "execution_count": 34
        }
      ]
    },
    {
      "cell_type": "markdown",
      "metadata": {
        "id": "d6ad1a9f"
      },
      "source": [
        "#### 15. What is the result of the following expression? (★☆☆)\n",
        "```python\n",
        "0 * np.nan\n",
        "np.nan == np.nan\n",
        "np.inf > np.nan\n",
        "np.nan - np.nan\n",
        "np.nan in set([np.nan])\n",
        "0.3 == 3 * 0.1\n",
        "```"
      ],
      "id": "d6ad1a9f"
    },
    {
      "cell_type": "code",
      "metadata": {
        "id": "ee7ff0f3",
        "colab": {
          "base_uri": "https://localhost:8080/"
        },
        "outputId": "d576c7ea-d37d-454e-8f3b-ecd1b9ea51bb"
      },
      "source": [
        "0 * np.nan\n",
        "np.nan == np.nan\n",
        "np.inf > np.nan\n",
        "np.nan - np.nan\n",
        "np.nan in set([np.nan])\n",
        "0.3 == 3 * 0.1"
      ],
      "id": "ee7ff0f3",
      "execution_count": 35,
      "outputs": [
        {
          "output_type": "execute_result",
          "data": {
            "text/plain": [
              "False"
            ]
          },
          "metadata": {},
          "execution_count": 35
        }
      ]
    },
    {
      "cell_type": "markdown",
      "metadata": {
        "id": "e3a7ba7f"
      },
      "source": [
        "#### 16. Create a 5x5 matrix with values 1,2,3,4 just below the **diag**onal (★☆☆)"
      ],
      "id": "e3a7ba7f"
    },
    {
      "cell_type": "code",
      "metadata": {
        "id": "01d8e257",
        "colab": {
          "base_uri": "https://localhost:8080/"
        },
        "outputId": "d3191940-51fe-4d35-b43d-b5aff824cee6"
      },
      "source": [
        "m3= np.zeros((5,5))\n",
        "values=np.array([1,2,3,4])\n",
        "np.fill_diagonal(m3[1:], values)\n",
        "m3"
      ],
      "id": "01d8e257",
      "execution_count": 37,
      "outputs": [
        {
          "output_type": "execute_result",
          "data": {
            "text/plain": [
              "array([[0., 0., 0., 0., 0.],\n",
              "       [1., 0., 0., 0., 0.],\n",
              "       [0., 2., 0., 0., 0.],\n",
              "       [0., 0., 3., 0., 0.],\n",
              "       [0., 0., 0., 4., 0.]])"
            ]
          },
          "metadata": {},
          "execution_count": 37
        }
      ]
    },
    {
      "cell_type": "markdown",
      "metadata": {
        "id": "6d17ab5d"
      },
      "source": [
        "#### 17. Create a 8x8 matrix and fill it with a checkerboard pattern (★☆☆)"
      ],
      "id": "6d17ab5d"
    },
    {
      "cell_type": "code",
      "metadata": {
        "id": "841373cd",
        "colab": {
          "base_uri": "https://localhost:8080/"
        },
        "outputId": "b9ca0af3-3303-41bb-8953-383ae23d1720"
      },
      "source": [
        "# Create an 8x8 matrix filled with zeros\n",
        "matrix = np.zeros((8, 8), dtype=int)\n",
        "\n",
        "# Fill the matrix with checkerboard pattern\n",
        "matrix[::2, ::2] = 1\n",
        "matrix[1::2, 1::2] = 1\n",
        "matrix"
      ],
      "id": "841373cd",
      "execution_count": 39,
      "outputs": [
        {
          "output_type": "execute_result",
          "data": {
            "text/plain": [
              "array([[1, 0, 1, 0, 1, 0, 1, 0],\n",
              "       [0, 1, 0, 1, 0, 1, 0, 1],\n",
              "       [1, 0, 1, 0, 1, 0, 1, 0],\n",
              "       [0, 1, 0, 1, 0, 1, 0, 1],\n",
              "       [1, 0, 1, 0, 1, 0, 1, 0],\n",
              "       [0, 1, 0, 1, 0, 1, 0, 1],\n",
              "       [1, 0, 1, 0, 1, 0, 1, 0],\n",
              "       [0, 1, 0, 1, 0, 1, 0, 1]])"
            ]
          },
          "metadata": {},
          "execution_count": 39
        }
      ]
    },
    {
      "cell_type": "markdown",
      "metadata": {
        "id": "8837119b"
      },
      "source": [
        "#### 18. Consider a (6,7,8) shape array, what is the index (x,y,z) of the 100th element? (★☆☆)\n",
        "Hint : use 'numpy.unravel_index(value, (x, y, z))"
      ],
      "id": "8837119b"
    },
    {
      "cell_type": "code",
      "metadata": {
        "id": "2c0d16f1",
        "colab": {
          "base_uri": "https://localhost:8080/"
        },
        "outputId": "70858d6a-cdb8-483f-81e8-ec2d39302e68"
      },
      "source": [
        "import numpy as np\n",
        "\n",
        "shape = (6, 7, 8)\n",
        "value = 100\n",
        "\n",
        "index = np.unravel_index(value, shape)\n",
        "\n",
        "print(\"Index (x, y, z) of the 100th element:\", index)"
      ],
      "id": "2c0d16f1",
      "execution_count": 40,
      "outputs": [
        {
          "output_type": "stream",
          "name": "stdout",
          "text": [
            "Index (x, y, z) of the 100th element: (1, 5, 4)\n"
          ]
        }
      ]
    },
    {
      "cell_type": "markdown",
      "metadata": {
        "id": "391791e0"
      },
      "source": [
        "#### 19. Normalize a 5x5 random matrix (★☆☆)\n",
        "Hint : $Z = \\frac{X - \\overline{X}}{S}$"
      ],
      "id": "391791e0"
    },
    {
      "cell_type": "code",
      "metadata": {
        "id": "f6533d39",
        "colab": {
          "base_uri": "https://localhost:8080/"
        },
        "outputId": "4ba20160-31f4-4cbc-ab9c-3975893b6485"
      },
      "source": [
        "m5=np.random.random((5,5))\n",
        "mean5= np.mean(m5)\n",
        "s5= np.std(m5)\n",
        "m5= (m5-mean5)/s5\n",
        "m5"
      ],
      "id": "f6533d39",
      "execution_count": 46,
      "outputs": [
        {
          "output_type": "execute_result",
          "data": {
            "text/plain": [
              "array([[ 1.11436335, -0.78873725,  0.80246444, -0.05003326, -0.79486595],\n",
              "       [-0.52324982, -0.66133515,  0.67606228,  1.13183681, -1.05881981],\n",
              "       [ 1.41277507,  1.10014674, -1.2827402 ,  0.1565269 , -1.29475735],\n",
              "       [ 0.96118792, -0.91574311, -0.54020846,  0.20875624,  0.76174683],\n",
              "       [ 1.74413014,  1.30788584, -0.71532049, -1.32330743, -1.42876426]])"
            ]
          },
          "metadata": {},
          "execution_count": 46
        }
      ]
    },
    {
      "cell_type": "markdown",
      "metadata": {
        "id": "1e74d39e"
      },
      "source": [
        "#### 20. Create a custom dtype that describes a color as four unsigned bytes (RGBA) (★☆☆)\n",
        "Hint : modify the code below\n",
        "```python\n",
        "numpy.dtype([(value, numpy.ubyte), … , (value, numpy.ubyte)])\n",
        "```"
      ],
      "id": "1e74d39e"
    },
    {
      "cell_type": "code",
      "metadata": {
        "id": "3f639d33",
        "colab": {
          "base_uri": "https://localhost:8080/"
        },
        "outputId": "5d7dd143-45b8-46fe-8c5d-4c395a427819"
      },
      "source": [
        "# Define custom dtype for RGBA colors\n",
        "rgba_dtype = np.dtype([('r', np.uint8),  # Red channel\n",
        "                       ('g', np.uint8),  # Green channel\n",
        "                       ('b', np.uint8),  # Blue channel\n",
        "                       ('a', np.uint8)]) # Alpha channel\n",
        "\n",
        "# Example RGBA color\n",
        "color = np.array((255, 128, 0, 255), dtype=rgba_dtype)\n",
        "\n",
        "print(\"RGBA Color:\", color)"
      ],
      "id": "3f639d33",
      "execution_count": 47,
      "outputs": [
        {
          "output_type": "stream",
          "name": "stdout",
          "text": [
            "RGBA Color: (255, 128, 0, 255)\n"
          ]
        }
      ]
    },
    {
      "cell_type": "markdown",
      "metadata": {
        "id": "78250c14"
      },
      "source": [
        "#### 21. Multiply a 5x3 matrix by a 3x2 matrix (real matrix product) (★☆☆)"
      ],
      "id": "78250c14"
    },
    {
      "cell_type": "code",
      "metadata": {
        "id": "9fe729cb",
        "colab": {
          "base_uri": "https://localhost:8080/"
        },
        "outputId": "275f1e68-a943-4f7e-98fa-96b9b8ebbe2a"
      },
      "source": [
        "m1 = np.random.random((5,3))\n",
        "m2 = np.random.random((3,2))\n",
        "m1 @ m2"
      ],
      "id": "9fe729cb",
      "execution_count": 48,
      "outputs": [
        {
          "output_type": "execute_result",
          "data": {
            "text/plain": [
              "array([[1.09702864, 0.99426142],\n",
              "       [0.86717152, 0.91938374],\n",
              "       [0.31700488, 0.34408574],\n",
              "       [0.78576994, 0.9164706 ],\n",
              "       [0.4972736 , 0.66646423]])"
            ]
          },
          "metadata": {},
          "execution_count": 48
        }
      ]
    },
    {
      "cell_type": "markdown",
      "metadata": {
        "id": "51898680"
      },
      "source": [
        "#### 22. Given a 1D array, negate all elements which are between 3 and 8, in place. (★☆☆)"
      ],
      "id": "51898680"
    },
    {
      "cell_type": "code",
      "metadata": {
        "id": "51c90f2d",
        "colab": {
          "base_uri": "https://localhost:8080/"
        },
        "outputId": "2e93bc9e-6acf-4f08-9663-ae5060f07669"
      },
      "source": [
        "# Create a 1D array\n",
        "array = np.array([1, 5, 7, 3, 9, 2, 6, 4, 8])\n",
        "\n",
        "# Negate elements between 3 and 8 in place\n",
        "array[(array > 3) & (array < 8)] *= -1\n",
        "\n",
        "print(\"Modified array:\", array)"
      ],
      "id": "51c90f2d",
      "execution_count": 49,
      "outputs": [
        {
          "output_type": "stream",
          "name": "stdout",
          "text": [
            "Modified array: [ 1 -5 -7  3  9  2 -6 -4  8]\n"
          ]
        }
      ]
    },
    {
      "cell_type": "markdown",
      "metadata": {
        "id": "89e78048"
      },
      "source": [
        "#### 23. What is the output of the following script? (★☆☆)\n",
        "```python\n",
        "# Author: Jake VanderPlas\n",
        "\n",
        "print(sum(range(5),-1))\n",
        "from numpy import *\n",
        "print(sum(range(5),-1))\n",
        "```"
      ],
      "id": "89e78048"
    },
    {
      "cell_type": "code",
      "metadata": {
        "id": "b62e9d1c",
        "colab": {
          "base_uri": "https://localhost:8080/"
        },
        "outputId": "33eb9c70-0481-4431-85f9-534389299052"
      },
      "source": [
        "print(sum(range(5),-1))\n",
        "from numpy import *\n",
        "print(sum(range(5),-1))"
      ],
      "id": "b62e9d1c",
      "execution_count": 50,
      "outputs": [
        {
          "output_type": "stream",
          "name": "stdout",
          "text": [
            "9\n",
            "10\n"
          ]
        }
      ]
    },
    {
      "cell_type": "markdown",
      "metadata": {
        "id": "ebd10810"
      },
      "source": [
        "#### 24. Consider an integer vector Z, which of these expressions are legal? (★☆☆)\n",
        "```python\n",
        "Z**Z\n",
        "2 << Z >> 2\n",
        "Z <- Z\n",
        "1j*Z\n",
        "Z/1/1\n",
        "Z<Z>Z\n",
        "```"
      ],
      "id": "ebd10810"
    },
    {
      "cell_type": "code",
      "metadata": {
        "id": "6ada209f",
        "colab": {
          "base_uri": "https://localhost:8080/"
        },
        "outputId": "931593e6-e3fc-4f9d-9345-16b402b6dfc7"
      },
      "source": [
        "z=np.array([1,2,3])\n",
        "z**z"
      ],
      "id": "6ada209f",
      "execution_count": 51,
      "outputs": [
        {
          "output_type": "execute_result",
          "data": {
            "text/plain": [
              "array([ 1,  4, 27])"
            ]
          },
          "metadata": {},
          "execution_count": 51
        }
      ]
    },
    {
      "cell_type": "code",
      "source": [
        "2<<z>>2"
      ],
      "metadata": {
        "colab": {
          "base_uri": "https://localhost:8080/"
        },
        "id": "tvjc722dgtX2",
        "outputId": "a02ac8f8-9b89-4439-ba7c-cd5a9cc12f12"
      },
      "id": "tvjc722dgtX2",
      "execution_count": 52,
      "outputs": [
        {
          "output_type": "execute_result",
          "data": {
            "text/plain": [
              "array([1, 2, 4])"
            ]
          },
          "metadata": {},
          "execution_count": 52
        }
      ]
    },
    {
      "cell_type": "code",
      "source": [
        "z<-z"
      ],
      "metadata": {
        "colab": {
          "base_uri": "https://localhost:8080/"
        },
        "id": "gu6v5vtVgvUD",
        "outputId": "7ca84260-22ca-4cc6-a7ad-e9bd66539560"
      },
      "id": "gu6v5vtVgvUD",
      "execution_count": 53,
      "outputs": [
        {
          "output_type": "execute_result",
          "data": {
            "text/plain": [
              "array([False, False, False])"
            ]
          },
          "metadata": {},
          "execution_count": 53
        }
      ]
    },
    {
      "cell_type": "code",
      "source": [
        "1j*z"
      ],
      "metadata": {
        "colab": {
          "base_uri": "https://localhost:8080/"
        },
        "id": "gjK2iO5wgwps",
        "outputId": "6b44ae5e-d75b-4ce9-9945-41b6fc4428f7"
      },
      "id": "gjK2iO5wgwps",
      "execution_count": 54,
      "outputs": [
        {
          "output_type": "execute_result",
          "data": {
            "text/plain": [
              "array([0.+1.j, 0.+2.j, 0.+3.j])"
            ]
          },
          "metadata": {},
          "execution_count": 54
        }
      ]
    },
    {
      "cell_type": "code",
      "source": [
        "z/1/1"
      ],
      "metadata": {
        "colab": {
          "base_uri": "https://localhost:8080/"
        },
        "id": "rFHVdxSagyvT",
        "outputId": "d6ca579b-6f63-48b2-848e-c830853f31bc"
      },
      "id": "rFHVdxSagyvT",
      "execution_count": 55,
      "outputs": [
        {
          "output_type": "execute_result",
          "data": {
            "text/plain": [
              "array([1., 2., 3.])"
            ]
          },
          "metadata": {},
          "execution_count": 55
        }
      ]
    },
    {
      "cell_type": "code",
      "source": [
        "z<z>z"
      ],
      "metadata": {
        "colab": {
          "base_uri": "https://localhost:8080/",
          "height": 141
        },
        "id": "kqNGku2Hg0J_",
        "outputId": "bd28d4e7-95b9-424b-8100-2ef2beb11591"
      },
      "id": "kqNGku2Hg0J_",
      "execution_count": 56,
      "outputs": [
        {
          "output_type": "error",
          "ename": "ValueError",
          "evalue": "The truth value of an array with more than one element is ambiguous. Use a.any() or a.all()",
          "traceback": [
            "\u001b[0;31m---------------------------------------------------------------------------\u001b[0m",
            "\u001b[0;31mValueError\u001b[0m                                Traceback (most recent call last)",
            "\u001b[0;32m<ipython-input-56-25fc7bedca6c>\u001b[0m in \u001b[0;36m<cell line: 1>\u001b[0;34m()\u001b[0m\n\u001b[0;32m----> 1\u001b[0;31m \u001b[0mz\u001b[0m\u001b[0;34m<\u001b[0m\u001b[0mz\u001b[0m\u001b[0;34m>\u001b[0m\u001b[0mz\u001b[0m\u001b[0;34m\u001b[0m\u001b[0;34m\u001b[0m\u001b[0m\n\u001b[0m",
            "\u001b[0;31mValueError\u001b[0m: The truth value of an array with more than one element is ambiguous. Use a.any() or a.all()"
          ]
        }
      ]
    },
    {
      "cell_type": "markdown",
      "metadata": {
        "id": "c0e940f8"
      },
      "source": [
        "#### 25. What are the result of the following expressions? (★☆☆)\n",
        "```python\n",
        "np.array(0) / np.array(0)\n",
        "np.array(0) // np.array(0)\n",
        "np.array([np.nan]).astype(int).astype(float)\n",
        "```"
      ],
      "id": "c0e940f8"
    },
    {
      "cell_type": "code",
      "metadata": {
        "id": "820dc7a5",
        "colab": {
          "base_uri": "https://localhost:8080/"
        },
        "outputId": "18fe1884-8bbd-4803-aa38-65c44144425d"
      },
      "source": [
        "np.array(0) / np.array(0)\n",
        "np.array(0) // np.array(0)\n",
        "np.array([np.nan]).astype(int).astype(float)"
      ],
      "id": "820dc7a5",
      "execution_count": 57,
      "outputs": [
        {
          "output_type": "stream",
          "name": "stderr",
          "text": [
            "<ipython-input-57-cd809174da5d>:1: RuntimeWarning: invalid value encountered in divide\n",
            "  np.array(0) / np.array(0)\n",
            "<ipython-input-57-cd809174da5d>:2: RuntimeWarning: divide by zero encountered in floor_divide\n",
            "  np.array(0) // np.array(0)\n",
            "<ipython-input-57-cd809174da5d>:3: RuntimeWarning: invalid value encountered in cast\n",
            "  np.array([np.nan]).astype(int).astype(float)\n"
          ]
        },
        {
          "output_type": "execute_result",
          "data": {
            "text/plain": [
              "array([-9.22337204e+18])"
            ]
          },
          "metadata": {},
          "execution_count": 57
        }
      ]
    },
    {
      "cell_type": "markdown",
      "metadata": {
        "id": "f1ae2c2d"
      },
      "source": [
        "#### 26. How to find common values between two arrays? (★☆☆)\n",
        "```python\n",
        "Z1 = np.random.randint(0,10,10)\n",
        "Z2 = np.random.randint(0,10,10)\n",
        "```\n",
        "Hint : use `numpy.random.randint(start, end, size)`"
      ],
      "id": "f1ae2c2d"
    },
    {
      "cell_type": "code",
      "source": [
        "# Generate two random arrays\n",
        "Z1 = np.random.randint(0, 10, 10)\n",
        "Z2 = np.random.randint(0, 10, 10)\n",
        "\n",
        "# Find common values between Z1 and Z2\n",
        "common_values = np.intersect1d(Z1, Z2)\n",
        "\n",
        "print(Z1)\n",
        "print(Z2)\n",
        "print(\"Common values between Z1 and Z2:\", common_values)"
      ],
      "metadata": {
        "colab": {
          "base_uri": "https://localhost:8080/"
        },
        "id": "klpcMvafhGt4",
        "outputId": "5c955743-0c49-48ba-e1c7-b327d0070cab"
      },
      "id": "klpcMvafhGt4",
      "execution_count": 59,
      "outputs": [
        {
          "output_type": "stream",
          "name": "stdout",
          "text": [
            "[6 1 8 2 8 5 6 0 7 3]\n",
            "[6 4 5 9 1 7 1 1 8 5]\n",
            "Common values between Z1 and Z2: [1 5 6 7 8]\n"
          ]
        }
      ]
    },
    {
      "cell_type": "markdown",
      "metadata": {
        "id": "37bc0973"
      },
      "source": [
        "#### 27. Is the following expressions true? (★☆☆)\n",
        "```python\n",
        "np.sqrt(-1) == np.emath.sqrt(-1)\n",
        "```"
      ],
      "id": "37bc0973"
    },
    {
      "cell_type": "code",
      "metadata": {
        "id": "c70cbabe",
        "colab": {
          "base_uri": "https://localhost:8080/"
        },
        "outputId": "1d411bd8-ddfc-40be-e193-513aaa35ed9c"
      },
      "source": [
        "np.sqrt(-1) == np.emath.sqrt(-1)"
      ],
      "id": "c70cbabe",
      "execution_count": 60,
      "outputs": [
        {
          "output_type": "stream",
          "name": "stderr",
          "text": [
            "<ipython-input-60-16339fbc685e>:1: RuntimeWarning: invalid value encountered in sqrt\n",
            "  np.sqrt(-1) == np.emath.sqrt(-1)\n"
          ]
        },
        {
          "output_type": "execute_result",
          "data": {
            "text/plain": [
              "False"
            ]
          },
          "metadata": {},
          "execution_count": 60
        }
      ]
    },
    {
      "cell_type": "code",
      "source": [
        "import numpy as np"
      ],
      "metadata": {
        "id": "uFZqYO0BxrKi"
      },
      "id": "uFZqYO0BxrKi",
      "execution_count": 61,
      "outputs": []
    },
    {
      "cell_type": "markdown",
      "metadata": {
        "id": "42f8b2f9"
      },
      "source": [
        "#### 28. How to get all the dates corresponding to the month of July 2016? (★★☆)\n",
        "Hint : modify the code below\n",
        "```python\n",
        "Z = np.arange('start', 'end', dtype='datetime64[D]')\n",
        "```"
      ],
      "id": "42f8b2f9"
    },
    {
      "cell_type": "code",
      "source": [
        "import numpy as np\n",
        "\n",
        "# Define start and end dates for July 2016\n",
        "start_date = np.datetime64('2016-07-01')\n",
        "end_date = np.datetime64('2016-08-01')\n",
        "\n",
        "# Generate array of dates corresponding to the month of July 2016\n",
        "dates_july_2016 = np.arange(start_date, end_date, dtype='datetime64[D]')\n",
        "\n",
        "print(\"Dates corresponding to the month of July 2016:\")\n",
        "print(dates_july_2016)"
      ],
      "metadata": {
        "id": "3kkl01x3x0NF",
        "colab": {
          "base_uri": "https://localhost:8080/"
        },
        "outputId": "d7ecd62d-179d-41f9-eacf-a5356563adf9"
      },
      "id": "3kkl01x3x0NF",
      "execution_count": 62,
      "outputs": [
        {
          "output_type": "stream",
          "name": "stdout",
          "text": [
            "Dates corresponding to the month of July 2016:\n",
            "['2016-07-01' '2016-07-02' '2016-07-03' '2016-07-04' '2016-07-05'\n",
            " '2016-07-06' '2016-07-07' '2016-07-08' '2016-07-09' '2016-07-10'\n",
            " '2016-07-11' '2016-07-12' '2016-07-13' '2016-07-14' '2016-07-15'\n",
            " '2016-07-16' '2016-07-17' '2016-07-18' '2016-07-19' '2016-07-20'\n",
            " '2016-07-21' '2016-07-22' '2016-07-23' '2016-07-24' '2016-07-25'\n",
            " '2016-07-26' '2016-07-27' '2016-07-28' '2016-07-29' '2016-07-30'\n",
            " '2016-07-31']\n"
          ]
        }
      ]
    },
    {
      "cell_type": "markdown",
      "metadata": {
        "id": "252c43e2"
      },
      "source": [
        "#### 29. How to compute ((A+B)*(-A/2)) in place (without copy)? (★★☆)\n",
        "Hint : use `numpy.add`, `numpy.divide`,`numpy.negative`, `numpy.multiply` and parameter `out` of the funtions"
      ],
      "id": "252c43e2"
    },
    {
      "cell_type": "code",
      "metadata": {
        "id": "f06ff615",
        "colab": {
          "base_uri": "https://localhost:8080/"
        },
        "outputId": "8d9ea553-b433-4579-888a-972912d6760d"
      },
      "source": [
        "A=np.array([1,2,3])\n",
        "B=np.array([4,5,6])\n",
        "\n",
        "a=np.add(A,B)\n",
        "n_a=np.negative(A)\n",
        "b=np.divide(n_a,2)\n",
        "c=np.multiply(a,b)\n",
        "c"
      ],
      "id": "f06ff615",
      "execution_count": 64,
      "outputs": [
        {
          "output_type": "execute_result",
          "data": {
            "text/plain": [
              "array([ -2.5,  -7. , -13.5])"
            ]
          },
          "metadata": {},
          "execution_count": 64
        }
      ]
    },
    {
      "cell_type": "markdown",
      "metadata": {
        "id": "486df8ea"
      },
      "source": [
        "#### 30. Extract the integer part of a random array of positive numbers using 2 different methods (★★☆)\n",
        "Hint : `%`, `//`"
      ],
      "id": "486df8ea"
    },
    {
      "cell_type": "code",
      "metadata": {
        "id": "34b4fa08",
        "colab": {
          "base_uri": "https://localhost:8080/"
        },
        "outputId": "aaf09b62-df0d-4915-fe39-a512aa12111c"
      },
      "source": [
        "# Generate a random array of positive numbers\n",
        "random_array = np.random.rand(5) * 10  # Random positive numbers between 0 and 10\n",
        "\n",
        "# Extract the integer part using astype(int)\n",
        "integer_part_astype = random_array.astype(int)\n",
        "\n",
        "print(\"Integer part using astype(int):\", integer_part_astype)"
      ],
      "id": "34b4fa08",
      "execution_count": 65,
      "outputs": [
        {
          "output_type": "stream",
          "name": "stdout",
          "text": [
            "Integer part using astype(int): [6 9 7 0 4]\n"
          ]
        }
      ]
    },
    {
      "cell_type": "markdown",
      "metadata": {
        "id": "649e89f9"
      },
      "source": [
        "#### 31. Create a 5x5 matrix with row values ranging from 0 to 4 (★★☆)"
      ],
      "id": "649e89f9"
    },
    {
      "cell_type": "code",
      "source": [
        "matrix = np.tile(np.arange(5), (5, 1))\n",
        "matrix"
      ],
      "metadata": {
        "colab": {
          "base_uri": "https://localhost:8080/"
        },
        "id": "E2hE4emEjhlT",
        "outputId": "510b7a4b-39af-48e2-c7cb-7090ef557109"
      },
      "id": "E2hE4emEjhlT",
      "execution_count": 75,
      "outputs": [
        {
          "output_type": "execute_result",
          "data": {
            "text/plain": [
              "array([[0, 1, 2, 3, 4],\n",
              "       [0, 1, 2, 3, 4],\n",
              "       [0, 1, 2, 3, 4],\n",
              "       [0, 1, 2, 3, 4],\n",
              "       [0, 1, 2, 3, 4]])"
            ]
          },
          "metadata": {},
          "execution_count": 75
        }
      ]
    },
    {
      "cell_type": "markdown",
      "metadata": {
        "id": "2d07be1c"
      },
      "source": [
        "#### 32. Create a random vector of size 10 and sort it (★★☆)"
      ],
      "id": "2d07be1c"
    },
    {
      "cell_type": "code",
      "metadata": {
        "id": "4f7cb3ad",
        "colab": {
          "base_uri": "https://localhost:8080/"
        },
        "outputId": "b400892b-185e-4082-d16a-066ba66139f1"
      },
      "source": [
        "a=np.array([3,6,1,6,8,2,8,4,2,9])\n",
        "b=np.sort(a)\n",
        "b"
      ],
      "id": "4f7cb3ad",
      "execution_count": 77,
      "outputs": [
        {
          "output_type": "execute_result",
          "data": {
            "text/plain": [
              "array([1, 2, 2, 3, 4, 6, 6, 8, 8, 9])"
            ]
          },
          "metadata": {},
          "execution_count": 77
        }
      ]
    },
    {
      "cell_type": "markdown",
      "metadata": {
        "id": "fe043549"
      },
      "source": [
        "#### 33. Consider two random array A and B, check if they are equal (★★☆)\n",
        "```python\n",
        "A = np.random.randint(0,2,5)\n",
        "B = np.random.randint(0,2,5)\n",
        "```\n",
        "Hint : Use `numpy.array_equal()`"
      ],
      "id": "fe043549"
    },
    {
      "cell_type": "code",
      "metadata": {
        "id": "3326a686",
        "colab": {
          "base_uri": "https://localhost:8080/"
        },
        "outputId": "65e27aa9-56b7-4918-e0a9-6192acbd9716"
      },
      "source": [
        "A = np.random.randint(0,2,5)\n",
        "B = np.random.randint(0,2,5)\n",
        "np.array_equal(A,B)"
      ],
      "id": "3326a686",
      "execution_count": 78,
      "outputs": [
        {
          "output_type": "execute_result",
          "data": {
            "text/plain": [
              "False"
            ]
          },
          "metadata": {},
          "execution_count": 78
        }
      ]
    },
    {
      "cell_type": "markdown",
      "metadata": {
        "id": "2002cb03"
      },
      "source": [
        "#### 34. Consider a random 10x2 matrix representing cartesian coordinates, convert them to polar coordinates (★★☆)\n",
        "Hint 1 : Note that cartesian coodinate **(x, y)** can be represented as  polar coordinates **(distance from origin to (x,y), angle from the x-axis)**\n",
        "\n",
        "Hint 2 : Use `numpy.sqrt` and `numpy.arctan2`"
      ],
      "id": "2002cb03"
    },
    {
      "cell_type": "code",
      "metadata": {
        "id": "58be72bc",
        "colab": {
          "base_uri": "https://localhost:8080/"
        },
        "outputId": "489d12d8-a2c4-4ec1-bda4-ac90bc35d77a"
      },
      "source": [
        "# Generate random cartesian coordinates\n",
        "cartesian_coords = np.random.rand(10, 2)  # 10 rows, 2 columns\n",
        "\n",
        "# Extract x and y coordinates\n",
        "x = cartesian_coords[:, 0]\n",
        "y = cartesian_coords[:, 1]\n",
        "\n",
        "# Convert cartesian coordinates to polar coordinates\n",
        "r = np.sqrt(x**2 + y**2)  # distance from origin to (x,y)\n",
        "theta = np.arctan2(y, x)  # angle from the x-axis\n",
        "\n",
        "# Stack r and theta to get polar coordinates\n",
        "polar_coords = np.column_stack((r, theta))\n",
        "\n",
        "print(\"Cartesian Coordinates:\")\n",
        "print(cartesian_coords)\n",
        "print(\"\\nPolar Coordinates:\")\n",
        "print(polar_coords)"
      ],
      "id": "58be72bc",
      "execution_count": 79,
      "outputs": [
        {
          "output_type": "stream",
          "name": "stdout",
          "text": [
            "Cartesian Coordinates:\n",
            "[[0.29582882 0.40065003]\n",
            " [0.55357149 0.97803008]\n",
            " [0.25201452 0.09352022]\n",
            " [0.58900775 0.52873605]\n",
            " [0.22529536 0.07267585]\n",
            " [0.25912757 0.08545932]\n",
            " [0.51361416 0.8182009 ]\n",
            " [0.53763146 0.68037273]\n",
            " [0.08235166 0.88351972]\n",
            " [0.247964   0.58758929]]\n",
            "\n",
            "Polar Coordinates:\n",
            "[[0.49803127 0.93477868]\n",
            " [1.12382571 1.05574709]\n",
            " [0.26880727 0.35533888]\n",
            " [0.79151244 0.7315277 ]\n",
            " [0.23672722 0.31204182]\n",
            " [0.272856   0.31856387]\n",
            " [0.9660498  1.01023197]\n",
            " [0.86715318 0.90205879]\n",
            " [0.88734936 1.47785623]\n",
            " [0.63776745 1.17146754]]\n"
          ]
        }
      ]
    },
    {
      "cell_type": "markdown",
      "metadata": {
        "id": "b7109c9f"
      },
      "source": [
        "#### 35. Create random vector Z of size 10 and replace the maximum value by 0 (★★☆)\n",
        "Hint : We can see the index of maximum value using `Z.argmax()`"
      ],
      "id": "b7109c9f"
    },
    {
      "cell_type": "code",
      "metadata": {
        "id": "f79e79a7",
        "colab": {
          "base_uri": "https://localhost:8080/"
        },
        "outputId": "8847ec02-438c-4467-b442-c6884004f040"
      },
      "source": [
        "z=np.random.random(10)\n",
        "z[z.argmax()]=0\n",
        "z"
      ],
      "id": "f79e79a7",
      "execution_count": 81,
      "outputs": [
        {
          "output_type": "execute_result",
          "data": {
            "text/plain": [
              "array([0.21283947, 0.44345709, 0.46880344, 0.4617929 , 0.08653902,\n",
              "       0.        , 0.69527461, 0.29979294, 0.24071741, 0.69284338])"
            ]
          },
          "metadata": {},
          "execution_count": 81
        }
      ]
    },
    {
      "cell_type": "markdown",
      "metadata": {
        "id": "e6e1ae2f"
      },
      "source": [
        "#### 36. How to find the closest value (to a given scalar v) in a vector Z? (★★☆)\n",
        "```python\n",
        "Z = np.arange(100)\n",
        "v = np.random.uniform(0,100)\n",
        "```\n",
        "Hint : Coumpute the distances between the each elements of Z and the scalar v. After that, we can see the index of minimum value using `argmin()`.  "
      ],
      "id": "e6e1ae2f"
    },
    {
      "cell_type": "code",
      "source": [
        "# Create vector Z and scalar v\n",
        "Z = np.arange(100)\n",
        "v = np.random.uniform(0, 100)\n",
        "\n",
        "# Compute absolute differences between elements of Z and scalar v\n",
        "distances = np.abs(Z - v)\n",
        "\n",
        "# Find the index of the minimum difference\n",
        "closest_index = np.argmin(distances)\n",
        "\n",
        "# The closest value is Z[closest_index]\n",
        "closest_value = Z[closest_index]\n",
        "\n",
        "print(\"Scalar v:\", v)\n",
        "print(\"Closest value in Z:\", closest_value)\n"
      ],
      "metadata": {
        "id": "QkQ2Mii77FrE",
        "colab": {
          "base_uri": "https://localhost:8080/"
        },
        "outputId": "02a32616-e117-4fa5-c4ad-85998f14d3bb"
      },
      "id": "QkQ2Mii77FrE",
      "execution_count": 82,
      "outputs": [
        {
          "output_type": "stream",
          "name": "stdout",
          "text": [
            "Scalar v: 18.12440058008108\n",
            "Closest value in Z: 18\n"
          ]
        }
      ]
    },
    {
      "cell_type": "markdown",
      "metadata": {
        "id": "f98713a6"
      },
      "source": [
        "#### 37. What is the equivalent of enumerate for numpy arrays? (★★☆)\n",
        "Hint : Use `numpy.ndenumerate()`or `numpy.ndindex()`\n",
        "\n",
        "Example of the output :\n",
        "```python\n",
        "Z = np.arange(9).reshape(3,3)\n",
        "```\n",
        "```python\n",
        "# output\n",
        "(0, 0) 0\n",
        "(0, 1) 1\n",
        "(0, 2) 2\n",
        "(1, 0) 3\n",
        "(1, 1) 4\n",
        "(1, 2) 5\n",
        "(2, 0) 6\n",
        "(2, 1) 7\n",
        "(2, 2) 8\n",
        "```"
      ],
      "id": "f98713a6"
    },
    {
      "cell_type": "code",
      "metadata": {
        "id": "64795f84",
        "colab": {
          "base_uri": "https://localhost:8080/"
        },
        "outputId": "d54e20f9-0a9a-466b-c1cb-6b47e00095fb"
      },
      "source": [
        "Z = np.arange(9).reshape(3, 3)\n",
        "\n",
        "# Iterate over each element of the array and print index and value\n",
        "for index, value in np.ndenumerate(Z):\n",
        "    print(index, value)"
      ],
      "id": "64795f84",
      "execution_count": 83,
      "outputs": [
        {
          "output_type": "stream",
          "name": "stdout",
          "text": [
            "(0, 0) 0\n",
            "(0, 1) 1\n",
            "(0, 2) 2\n",
            "(1, 0) 3\n",
            "(1, 1) 4\n",
            "(1, 2) 5\n",
            "(2, 0) 6\n",
            "(2, 1) 7\n",
            "(2, 2) 8\n"
          ]
        }
      ]
    },
    {
      "cell_type": "markdown",
      "metadata": {
        "id": "0cf413ee"
      },
      "source": [
        "#### 38. How to randomly place p elements in a 2D array? (★★☆)\n",
        "Hint : modify the code below\n",
        "```python\n",
        "n = 'size of a 2D array'\n",
        "p = 'the number of elements that you want to place'\n",
        "Z = np.zeros((n,n))\n",
        "np.put(Z, np.random.choice(range(n*n), p, replace = False),'value that you want to place')\n",
        "print(Z)\n",
        "```"
      ],
      "id": "0cf413ee"
    },
    {
      "cell_type": "code",
      "metadata": {
        "id": "dfc57e06",
        "colab": {
          "base_uri": "https://localhost:8080/"
        },
        "outputId": "a29f96a4-bdfd-4917-b484-4dce39a98496"
      },
      "source": [
        "n = 5  # Size of the 2D array\n",
        "p = 4  # Number of elements to place\n",
        "value_to_place = 1  # Value that you want to place\n",
        "\n",
        "Z = np.zeros((n, n))\n",
        "np.put(Z, np.random.choice(range(n * n), p, replace=False), value_to_place)\n",
        "print(Z)"
      ],
      "id": "dfc57e06",
      "execution_count": 90,
      "outputs": [
        {
          "output_type": "stream",
          "name": "stdout",
          "text": [
            "[[0. 1. 0. 0. 0.]\n",
            " [0. 0. 1. 0. 0.]\n",
            " [0. 0. 0. 0. 0.]\n",
            " [1. 0. 0. 1. 0.]\n",
            " [0. 0. 0. 0. 0.]]\n"
          ]
        }
      ]
    },
    {
      "cell_type": "markdown",
      "metadata": {
        "id": "c0cf37e0"
      },
      "source": [
        "#### 39. How to sort an array below by the nth column? (★★☆)\n",
        "```python\n",
        "Z = np.random.randint(0,10,(3,3))\n",
        "```"
      ],
      "id": "c0cf37e0"
    },
    {
      "cell_type": "code",
      "metadata": {
        "id": "9336ca5f",
        "colab": {
          "base_uri": "https://localhost:8080/"
        },
        "outputId": "731747d5-0c29-4077-f537-8cc0b82f71e6"
      },
      "source": [
        "# column 1\n",
        "Z = np.random.randint(0,10,(3,3))\n",
        "n=0\n",
        "sorted_indices = np.argsort(Z[:, n])\n",
        "\n",
        "sorted_Z = Z[sorted_indices]\n",
        "\n",
        "print(\"원본 배열:\")\n",
        "print(Z)\n",
        "print(\"\\n%d번째 열을 기준으로 정렬된 배열:\" % n)\n",
        "print(sorted_Z)"
      ],
      "id": "9336ca5f",
      "execution_count": 87,
      "outputs": [
        {
          "output_type": "stream",
          "name": "stdout",
          "text": [
            "원본 배열:\n",
            "[[2 7 7]\n",
            " [7 9 6]\n",
            " [3 1 4]]\n",
            "\n",
            "0번째 열을 기준으로 정렬된 배열:\n",
            "[[2 7 7]\n",
            " [3 1 4]\n",
            " [7 9 6]]\n"
          ]
        }
      ]
    },
    {
      "cell_type": "code",
      "source": [
        "# column 2\n",
        "n=1\n",
        "sorted_indices = np.argsort(Z[:, n])\n",
        "\n",
        "# n번째 열을 기준으로 배열 정렬\n",
        "sorted_Z = Z[sorted_indices]\n",
        "\n",
        "print(\"원본 배열:\")\n",
        "print(Z)\n",
        "print(\"\\n%d번째 열을 기준으로 정렬된 배열:\" % n)\n",
        "print(sorted_Z)"
      ],
      "metadata": {
        "id": "0hZzZ6tn2K6V",
        "colab": {
          "base_uri": "https://localhost:8080/"
        },
        "outputId": "a1535213-18e9-4438-8a89-d8a2d40cf64e"
      },
      "id": "0hZzZ6tn2K6V",
      "execution_count": 88,
      "outputs": [
        {
          "output_type": "stream",
          "name": "stdout",
          "text": [
            "원본 배열:\n",
            "[[2 7 7]\n",
            " [7 9 6]\n",
            " [3 1 4]]\n",
            "\n",
            "1번째 열을 기준으로 정렬된 배열:\n",
            "[[3 1 4]\n",
            " [2 7 7]\n",
            " [7 9 6]]\n"
          ]
        }
      ]
    },
    {
      "cell_type": "code",
      "source": [
        "# column 3\n",
        "n=2\n",
        "sorted_indices = np.argsort(Z[:, n])\n",
        "\n",
        "# n번째 열을 기준으로 배열 정렬\n",
        "sorted_Z = Z[sorted_indices]\n",
        "\n",
        "print(\"원본 배열:\")\n",
        "print(Z)\n",
        "print(\"\\n%d번째 열을 기준으로 정렬된 배열:\" % n)\n",
        "print(sorted_Z)"
      ],
      "metadata": {
        "id": "z4zqQXvt2NaB",
        "colab": {
          "base_uri": "https://localhost:8080/"
        },
        "outputId": "da849d2a-b9df-4528-e9b4-e625dfd078dd"
      },
      "id": "z4zqQXvt2NaB",
      "execution_count": 89,
      "outputs": [
        {
          "output_type": "stream",
          "name": "stdout",
          "text": [
            "원본 배열:\n",
            "[[2 7 7]\n",
            " [7 9 6]\n",
            " [3 1 4]]\n",
            "\n",
            "2번째 열을 기준으로 정렬된 배열:\n",
            "[[3 1 4]\n",
            " [7 9 6]\n",
            " [2 7 7]]\n"
          ]
        }
      ]
    },
    {
      "cell_type": "code",
      "source": [],
      "metadata": {
        "id": "iuRsBNNqlnDD"
      },
      "id": "iuRsBNNqlnDD",
      "execution_count": null,
      "outputs": []
    }
  ]
}