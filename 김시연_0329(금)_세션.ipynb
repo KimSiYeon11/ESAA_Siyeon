{
  "nbformat": 4,
  "nbformat_minor": 0,
  "metadata": {
    "anaconda-cloud": {},
    "kernelspec": {
      "display_name": "Python [default]",
      "language": "python",
      "name": "python2"
    },
    "language_info": {
      "codemirror_mode": {
        "name": "ipython",
        "version": 2
      },
      "file_extension": ".py",
      "mimetype": "text/x-python",
      "name": "python",
      "nbconvert_exporter": "python",
      "pygments_lexer": "ipython2",
      "version": "2.7.12"
    },
    "colab": {
      "provenance": []
    }
  },
  "cells": [
    {
      "cell_type": "markdown",
      "metadata": {
        "id": "on6xgUECVXIz"
      },
      "source": [
        "# Apple Stock"
      ]
    },
    {
      "cell_type": "markdown",
      "metadata": {
        "id": "yRb05F3RVXJI"
      },
      "source": [
        "### Introduction:\n",
        "\n",
        "We are going to use Apple's stock price.\n",
        "\n",
        "\n",
        "### Step 1. Import the necessary libraries"
      ]
    },
    {
      "cell_type": "code",
      "metadata": {
        "id": "4g8N0RkRVXJN"
      },
      "source": [
        "import pandas as pd\n",
        "import numpy as np"
      ],
      "execution_count": 1,
      "outputs": []
    },
    {
      "cell_type": "markdown",
      "metadata": {
        "id": "PadQE1mnVXJS"
      },
      "source": [
        "### Step 2. Import the dataset from this [address](https://raw.githubusercontent.com/guipsamora/pandas_exercises/master/09_Time_Series/Apple_Stock/appl_1980_2014.csv)"
      ]
    },
    {
      "cell_type": "code",
      "metadata": {
        "collapsed": true,
        "id": "jFE0126tVXJU"
      },
      "source": [
        "data = pd.read_csv('https://raw.githubusercontent.com/guipsamora/pandas_exercises/master/09_Time_Series/Apple_Stock/appl_1980_2014.csv',sep=',')"
      ],
      "execution_count": 2,
      "outputs": []
    },
    {
      "cell_type": "markdown",
      "metadata": {
        "id": "0szUfJRXVXJY"
      },
      "source": [
        "### Step 3. Assign it to a variable apple"
      ]
    },
    {
      "cell_type": "code",
      "metadata": {
        "id": "-OGkJEZNVXJa"
      },
      "source": [
        "apple = data"
      ],
      "execution_count": 5,
      "outputs": []
    },
    {
      "cell_type": "markdown",
      "metadata": {
        "id": "TBxUymvFVXJc"
      },
      "source": [
        "### Step 4.  Check out the type of the columns"
      ]
    },
    {
      "cell_type": "code",
      "metadata": {
        "id": "hh_Qct_DVXJg",
        "colab": {
          "base_uri": "https://localhost:8080/"
        },
        "outputId": "14995a4f-9b0b-410b-f75e-a5548cafa02c"
      },
      "source": [
        "print(apple.dtypes)"
      ],
      "execution_count": 7,
      "outputs": [
        {
          "output_type": "stream",
          "name": "stdout",
          "text": [
            "Date          object\n",
            "Open         float64\n",
            "High         float64\n",
            "Low          float64\n",
            "Close        float64\n",
            "Volume         int64\n",
            "Adj Close    float64\n",
            "dtype: object\n"
          ]
        }
      ]
    },
    {
      "cell_type": "markdown",
      "metadata": {
        "id": "gSo835mZVXJj"
      },
      "source": [
        "### Step 5. Transform the Date column as a datetime type"
      ]
    },
    {
      "cell_type": "code",
      "metadata": {
        "id": "TZHt_GTCVXJm"
      },
      "source": [
        "apple['Date'] = pd.to_datetime(apple['Date'])"
      ],
      "execution_count": 8,
      "outputs": []
    },
    {
      "cell_type": "markdown",
      "metadata": {
        "id": "KnpuOPx1VXJn"
      },
      "source": [
        "### Step 6.  Set the date as the index"
      ]
    },
    {
      "cell_type": "code",
      "metadata": {
        "id": "0w3vVnNTVXJp"
      },
      "source": [
        "apple.set_index('Date', inplace=True)"
      ],
      "execution_count": 9,
      "outputs": []
    },
    {
      "cell_type": "markdown",
      "metadata": {
        "id": "gTAynxAuVXJq"
      },
      "source": [
        "### Step 7.  Is there any duplicate dates?"
      ]
    },
    {
      "cell_type": "code",
      "metadata": {
        "id": "X7CMs_b0VXJs",
        "colab": {
          "base_uri": "https://localhost:8080/"
        },
        "outputId": "eab776d0-883a-4db2-f610-1ad743d2649b"
      },
      "source": [
        "duplicate_dates = apple.index[apple.index.duplicated()]\n",
        "print(\"Duplicate dates:\", duplicate_dates)"
      ],
      "execution_count": 11,
      "outputs": [
        {
          "output_type": "stream",
          "name": "stdout",
          "text": [
            "Duplicate dates: DatetimeIndex([], dtype='datetime64[ns]', name='Date', freq=None)\n"
          ]
        }
      ]
    },
    {
      "cell_type": "markdown",
      "metadata": {
        "id": "hwzw_ul_VXJt"
      },
      "source": [
        "### Step 8.  Ops...it seems the index is from the most recent date. Make the first entry the oldest date."
      ]
    },
    {
      "cell_type": "code",
      "source": [
        "apple.sort_index(ascending=True, inplace=True)"
      ],
      "metadata": {
        "id": "9cMVVmS8wArT"
      },
      "execution_count": 14,
      "outputs": []
    },
    {
      "cell_type": "markdown",
      "metadata": {
        "id": "eRY2W2hfVXJv"
      },
      "source": [
        "### Step 9. Get the last business day of each month"
      ]
    },
    {
      "cell_type": "code",
      "metadata": {
        "id": "APU643vIVXJx",
        "colab": {
          "base_uri": "https://localhost:8080/"
        },
        "outputId": "cff1846d-f75d-4fbe-e936-2ef54f40653a"
      },
      "source": [
        "# Example DataFrame\n",
        "df = pd.DataFrame({'Date': pd.date_range(start='2024-01-01', end='2024-12-31')})\n",
        "\n",
        "# Get the last business day of each month\n",
        "last_business_days = df.groupby(df['Date'].dt.to_period('M')).apply(lambda x: x['Date'].iloc[-1] if not x['Date'].iloc[-1].isoweekday() in [6,7] else x['Date'].iloc[-2])\n",
        "\n",
        "# Print the last business day of each month\n",
        "print(last_business_days)"
      ],
      "execution_count": 15,
      "outputs": [
        {
          "output_type": "stream",
          "name": "stdout",
          "text": [
            "Date\n",
            "2024-01   2024-01-31\n",
            "2024-02   2024-02-29\n",
            "2024-03   2024-03-30\n",
            "2024-04   2024-04-30\n",
            "2024-05   2024-05-31\n",
            "2024-06   2024-06-29\n",
            "2024-07   2024-07-31\n",
            "2024-08   2024-08-30\n",
            "2024-09   2024-09-30\n",
            "2024-10   2024-10-31\n",
            "2024-11   2024-11-29\n",
            "2024-12   2024-12-31\n",
            "Freq: M, dtype: datetime64[ns]\n"
          ]
        }
      ]
    },
    {
      "cell_type": "markdown",
      "metadata": {
        "id": "a9O6hmadVXJy"
      },
      "source": [
        "### Step 10.  What is the difference in days between the first day and the oldest"
      ]
    },
    {
      "cell_type": "code",
      "metadata": {
        "id": "HMGS16w9VXJy",
        "colab": {
          "base_uri": "https://localhost:8080/"
        },
        "outputId": "0b9a3b13-879c-4550-f89b-bd7c7097fc2c"
      },
      "source": [
        "# Calculate the difference in days between the first day and the oldest day\n",
        "difference_days = (apple.index[-1] - apple.index[0]).days\n",
        "\n",
        "# Print the result\n",
        "print(\"Difference in days between the first day and the oldest day:\", difference_days)"
      ],
      "execution_count": 16,
      "outputs": [
        {
          "output_type": "stream",
          "name": "stdout",
          "text": [
            "Difference in days between the first day and the oldest day: 12261\n"
          ]
        }
      ]
    },
    {
      "cell_type": "markdown",
      "metadata": {
        "id": "Ey0zVGV5VXJz"
      },
      "source": [
        "### Step 11.  How many months in the data we have?"
      ]
    },
    {
      "cell_type": "code",
      "metadata": {
        "id": "Pxkdp6j-VXJz",
        "colab": {
          "base_uri": "https://localhost:8080/"
        },
        "outputId": "b994f9cc-d1b2-45e3-d903-22d1b7f83fe5"
      },
      "source": [
        "months_count = apple.index.to_period('M').nunique()\n",
        "\n",
        "# Print the result\n",
        "print(\"Number of months in the data:\", months_count)"
      ],
      "execution_count": 18,
      "outputs": [
        {
          "output_type": "stream",
          "name": "stdout",
          "text": [
            "Number of months in the data: 404\n"
          ]
        }
      ]
    },
    {
      "cell_type": "markdown",
      "metadata": {
        "id": "zXIBNkMFVXJ0"
      },
      "source": [
        "### Step 12. Plot the 'Adj Close' value. Set the size of the figure to 13.5 x 9 inches"
      ]
    },
    {
      "cell_type": "code",
      "metadata": {
        "id": "bvsp15_IVXJ1",
        "colab": {
          "base_uri": "https://localhost:8080/",
          "height": 417
        },
        "outputId": "d9087a64-c0ce-4d21-f084-288acb8cbf8a"
      },
      "source": [
        "import matplotlib.pyplot as plt\n",
        "\n",
        "# Plot 'Adj Close' values\n",
        "plt.figure(figsize=(13.5, 9))\n",
        "apple['Adj Close'].plot()\n",
        "plt.title('Apple Stock Adj Close')\n",
        "plt.xlabel('Date')\n",
        "plt.ylabel('Adj Close Value')\n",
        "plt.grid(True)\n",
        "plt.show()"
      ],
      "execution_count": 19,
      "outputs": [
        {
          "output_type": "display_data",
          "data": {
            "text/plain": [
              "<Figure size 1350x900 with 1 Axes>"
            ],
            "image/png": "[encoded data removed]"
          },
          "metadata": {}
        }
      ]
    }
  ]
}