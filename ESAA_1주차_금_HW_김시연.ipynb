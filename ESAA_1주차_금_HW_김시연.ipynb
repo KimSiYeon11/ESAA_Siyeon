{
  "nbformat": 4,
  "nbformat_minor": 0,
  "metadata": {
    "colab": {
      "provenance": []
    },
    "kernelspec": {
      "name": "python3",
      "display_name": "Python 3"
    },
    "language_info": {
      "name": "python"
    }
  },
  "cells": [
    {
      "cell_type": "markdown",
      "source": [
        "#01. 머신러닝의 개념"
      ],
      "metadata": {
        "id": "_90_MOEz8J0O"
      }
    },
    {
      "cell_type": "markdown",
      "source": [
        "**머신러닝** : 데이터를 기반으로 패턴을 학습하고 결과를 예측하는 알고리즘 기법.\n",
        "\n",
        "머신러닝 알고리즘은 데이터를 기반으로 통계적인 신뢰도를 강화하고 예측 오류를 최소화하기 위한 다양한 수학적 기법을 적용해 데이터 내의 패턴을 스스로 인지하고 신뢰도 있는 예측 결과를 도출해 낸다."
      ],
      "metadata": {
        "id": "tPDVGWSA4ujG"
      }
    },
    {
      "cell_type": "markdown",
      "source": [
        "**머신러닝의 분류**\n",
        "\n",
        "**1. 지도학습 (Supervised Learning)**\n",
        ": 라벨 데이터가 주어짐\n",
        "\n",
        "- 분류\n",
        "- 회귀\n",
        "- 추천 시스템\n",
        "- 시각/음성감지/인지\n",
        "- NLP\n",
        "\n",
        "**2. 비지도학습 (Unsupervised Learning)**\n",
        ": 라벨 데이터가 주어지지 않음\n",
        "\n",
        "- 클러스터링\n",
        "- 차원축소\n",
        "- 강화학습"
      ],
      "metadata": {
        "id": "y090snZX5Ejh"
      }
    },
    {
      "cell_type": "markdown",
      "source": [
        "# 03. 넘파이"
      ],
      "metadata": {
        "id": "V5q8YpAN5fdK"
      }
    },
    {
      "cell_type": "markdown",
      "source": [
        "**Numpy** : Numerical Python\n",
        "\n",
        "파이썬에서 선형대수 기반의 프로그램을 쉽게 만들 수 있도록 지원하는 대표적인 패키지.\n",
        "\n",
        "루프를 사용하지 않고 대량 데이터의 배열 계산을 가능하게 하므로 빠른 배열 연산속도를 보유함.\n",
        "\n",
        "C/C++ 같은 저수준언어기반의 호환 API 제공해 수행 성능이 매우 중요한 부분은 C기반의 코드로 작성하고 넘파이로 호출 가능.\n",
        "\n",
        "-> 텐서플로가 이런 방식 활용\n",
        "\n",
        "**넘파이를 이해하는 것은 파이썬 기반의 머신러닝에서 매우 중요함**\n",
        "\n",
        ": 많은 머신러닝 패키지가 넘파이 기반으로 작성되었으며, 알고리즘의 입력데이터와 출력 데이터를 넘파이 배열 타입으로 사용하기 때문.\n",
        "또한 판다스를 이해하는데에도 많은 도움이 됨."
      ],
      "metadata": {
        "id": "sjXWNrCa5iX3"
      }
    },
    {
      "cell_type": "markdown",
      "source": [
        "## 넘파이 ndarray 개요"
      ],
      "metadata": {
        "id": "14TcWvx37jjE"
      }
    },
    {
      "cell_type": "code",
      "execution_count": 2,
      "metadata": {
        "id": "JnfH6vC71Twi"
      },
      "outputs": [],
      "source": [
        "import numpy as np"
      ]
    },
    {
      "cell_type": "markdown",
      "source": [
        "**넘파이 기반 데이터 타입 : ndarray**\n",
        "\n",
        ": 넘파이에서 다차원 배열을 쉽게 생성하고 다양한 연산 수행 가능"
      ],
      "metadata": {
        "id": "pgeSFI_p7qmM"
      }
    },
    {
      "cell_type": "markdown",
      "source": [
        "### array() 함수\n",
        "\n",
        ": 파이썬의 리스트 같은 다양한 인자를 입력받아 ndarray로 변환하는 기능 수행"
      ],
      "metadata": {
        "id": "kwrrQvFH7z3S"
      }
    },
    {
      "cell_type": "markdown",
      "source": [
        "- shape 변수 : ndarray의 크기를 튜플 형태로 가지고 있음\n",
        "\n",
        "  -> ndarray 배열의 차원 파악 가능\n",
        "  -> shape() 가 아님을 주의하자. 계속 헷갈림"
      ],
      "metadata": {
        "id": "BvPSmuag8AtV"
      }
    },
    {
      "cell_type": "code",
      "source": [
        "array1 = np.array([1,2,3])\n",
        "print('array1 type:', type(array1))\n",
        "print('array1 array 형태: ', array1.shape)\n",
        "\n",
        "array2 = np.array([[1,2,3],\n",
        "                  [2,3,4]])\n",
        "print('array2 type:', type(array2))\n",
        "print('array2 array 형태 :', array2.shape)\n",
        "\n",
        "array3=np.array([[1,2,3]])\n",
        "print('array3 type:', type(array3))\n",
        "print('array3 array 형태 :', array3.shape)"
      ],
      "metadata": {
        "colab": {
          "base_uri": "https://localhost:8080/"
        },
        "id": "_Vjd4gkY7mxD",
        "outputId": "4ef57bdd-edb0-436e-bdef-61d5fb88dbb1"
      },
      "execution_count": 3,
      "outputs": [
        {
          "output_type": "stream",
          "name": "stdout",
          "text": [
            "array1 type: <class 'numpy.ndarray'>\n",
            "array1 array 형태:  (3,)\n",
            "array2 type: <class 'numpy.ndarray'>\n",
            "array2 array 형태 : (2, 3)\n",
            "array3 type: <class 'numpy.ndarray'>\n",
            "array3 array 형태 : (1, 3)\n"
          ]
        }
      ]
    },
    {
      "cell_type": "markdown",
      "source": [
        "array1 : 1차원 데이터, 3개의 데이터\n",
        "\n",
        "array2 : 2차원 데이터, 2개의 로우와 3개의 칼럼\n",
        "\n",
        "array3 : 2차원 데이터, 1개의 로우와 3개의 칼럼\n",
        "\n",
        "**array1은 1차원. array3은 2차원**"
      ],
      "metadata": {
        "id": "rZHk0QyT8wMc"
      }
    },
    {
      "cell_type": "code",
      "source": [
        "print('array1 : {:0}차원, array2 : {:1}차원, array3 : {:2}차원'.format(array1.ndim,\n",
        "                                                                 array2.ndim, array3.ndim))"
      ],
      "metadata": {
        "id": "AGxBwkOa9HwB",
        "colab": {
          "base_uri": "https://localhost:8080/"
        },
        "outputId": "68bbb9f9-f9a4-4c26-f005-af2e11a43fed"
      },
      "execution_count": 5,
      "outputs": [
        {
          "output_type": "stream",
          "name": "stdout",
          "text": [
            "array1 : 1차원, array2 : 2차원, array3 :  2차원\n"
          ]
        }
      ]
    },
    {
      "cell_type": "markdown",
      "source": [
        "**ndim이다. dim이 아님**"
      ],
      "metadata": {
        "id": "ZiM-nLQ_9ulP"
      }
    },
    {
      "cell_type": "markdown",
      "source": [
        "### ndarray의 데이터 타입"
      ],
      "metadata": {
        "id": "c9Y9MKRL963D"
      }
    },
    {
      "cell_type": "markdown",
      "source": [
        "ndarray의 데이터값은 숫자 값, 문자열 값, 불 값 등이 모두 가능하다. 단, 그 연산의 특성상 같은 데이터 타입만 가능하다. 즉 한개의 ndarray객체에 int와 float가 함께 있을 수 없다.\n",
        "\n",
        "ndarray의 데이터 타입은 dtype속성으로 확인할 수 있다."
      ],
      "metadata": {
        "id": "KmCSADPJ9-9D"
      }
    },
    {
      "cell_type": "code",
      "source": [
        "list1 =[1,2,3]\n",
        "print(type(list1))\n",
        "array1 = np.array(list1)\n",
        "print(type(array1))\n",
        "print(array1, array1.dtype)"
      ],
      "metadata": {
        "colab": {
          "base_uri": "https://localhost:8080/"
        },
        "id": "iusZbxYF9j0X",
        "outputId": "4e0e0c02-1543-4341-bc64-113a81f376fb"
      },
      "execution_count": 6,
      "outputs": [
        {
          "output_type": "stream",
          "name": "stdout",
          "text": [
            "<class 'list'>\n",
            "<class 'numpy.ndarray'>\n",
            "[1 2 3] int64\n"
          ]
        }
      ]
    },
    {
      "cell_type": "markdown",
      "source": [
        "만약 다른 데이터 유형이 섞여있는 리스트를 ndarray로 변경하면 데이터 크기가 더 큰 데이터 타입으로 형 변환을 일괄 적용한다."
      ],
      "metadata": {
        "id": "mevIJ6rB-kR6"
      }
    },
    {
      "cell_type": "code",
      "source": [
        "list2 = [1,2,'test']\n",
        "array2 = np.array(list2)\n",
        "print(array2, array2.dtype)"
      ],
      "metadata": {
        "colab": {
          "base_uri": "https://localhost:8080/"
        },
        "id": "TrqkJV-1-ftc",
        "outputId": "289d1cee-4d80-45c9-bd9e-63b0fdf83773"
      },
      "execution_count": 7,
      "outputs": [
        {
          "output_type": "stream",
          "name": "stdout",
          "text": [
            "['1' '2' 'test'] <U21\n"
          ]
        }
      ]
    },
    {
      "cell_type": "markdown",
      "source": [
        "int가 모두 문자열 값인 '1', '2'로 변환되었음. (유니코드 문자열 값으로 변환)"
      ],
      "metadata": {
        "id": "CAARFTdv--TR"
      }
    },
    {
      "cell_type": "code",
      "source": [
        "list3 = [1,2,3.0]\n",
        "array3 = np.array(list3)\n",
        "print(array3, array3.dtype)"
      ],
      "metadata": {
        "colab": {
          "base_uri": "https://localhost:8080/"
        },
        "id": "kVh2yhoy-w3U",
        "outputId": "9efd67b9-a9e3-4c7e-93e5-dd1523c2dc10"
      },
      "execution_count": 9,
      "outputs": [
        {
          "output_type": "stream",
          "name": "stdout",
          "text": [
            "[1. 2. 3.] float64\n"
          ]
        }
      ]
    },
    {
      "cell_type": "markdown",
      "source": [
        "int가 float64로 변환됨"
      ],
      "metadata": {
        "id": "GzotTvME_IZ-"
      }
    },
    {
      "cell_type": "code",
      "source": [
        "# 데이터값 타입 변경 : astype() 메서드\n",
        "\n",
        "array_int = np.array([1,2,3])\n",
        "array_float = array_int.astype('float64')\n",
        "print(array_float, array_float.dtype)\n",
        "\n",
        "array_int1 = array_float.astype('int32')\n",
        "print(array_int1, array_int1.dtype)\n",
        "\n",
        "array_float1 = np.array([1.1, 2.1, 3.1])\n",
        "array_int2 = array_float1.astype('int32')\n",
        "print(array_int2, array_int2.dtype)"
      ],
      "metadata": {
        "colab": {
          "base_uri": "https://localhost:8080/"
        },
        "id": "whVxJiPr-5Cm",
        "outputId": "02128497-a432-4da1-de2e-71dc2ee46c16"
      },
      "execution_count": 10,
      "outputs": [
        {
          "output_type": "stream",
          "name": "stdout",
          "text": [
            "[1. 2. 3.] float64\n",
            "[1 2 3] int32\n",
            "[1 2 3] int32\n"
          ]
        }
      ]
    },
    {
      "cell_type": "markdown",
      "source": [
        "데이터 타입 변경을 통헤 메모리를 절약할 수 있음.\n",
        "\n",
        "* float를 int로 변경할 때는 소수점 이하를 모두 없앰"
      ],
      "metadata": {
        "id": "bVwWD1AL_vum"
      }
    },
    {
      "cell_type": "markdown",
      "source": [
        "### ndarray를 편리하게 생성하기 - arange, zeros, ones"
      ],
      "metadata": {
        "id": "AOsqYuHE_8Ci"
      }
    },
    {
      "cell_type": "markdown",
      "source": [
        "특정 크기와 차원을 가진 ndarray를 연속값이나 0, 1로 초기화 해 쉽게 생성할 필요가 있을 때가 존재함. 주로 테스트용으로 데이터를 만들거나 대규모의 데이터를 일괄적으로 초기화해야 할 경우에 사용"
      ],
      "metadata": {
        "id": "UYsAx77pABfe"
      }
    },
    {
      "cell_type": "code",
      "source": [
        "# arange()\n",
        "\n",
        "sequence_array = np.arange(10)\n",
        "print(sequence_array)\n",
        "print(sequence_array.dtype, sequence_array.shape)"
      ],
      "metadata": {
        "colab": {
          "base_uri": "https://localhost:8080/"
        },
        "id": "lOuMjbAF_r_8",
        "outputId": "26a87b02-2d73-4086-9681-5e7708ca6329"
      },
      "execution_count": 11,
      "outputs": [
        {
          "output_type": "stream",
          "name": "stdout",
          "text": [
            "[0 1 2 3 4 5 6 7 8 9]\n",
            "int64 (10,)\n"
          ]
        }
      ]
    },
    {
      "cell_type": "markdown",
      "source": [
        "range와 유사한 기능을 하며, 0이 아닌 다른 값부터 시작한 연속 값을 부여하는 것도 가능함."
      ],
      "metadata": {
        "id": "UmTEH16cAbXD"
      }
    },
    {
      "cell_type": "code",
      "source": [
        "# zeros()\n",
        "\n",
        "zero_array = np.zeros((3,2), dtype = 'int32')\n",
        "print(zero_array)\n",
        "print(zero_array.dtype, zero_array.shape)\n",
        "\n",
        "#ones()\n",
        "one_array = np.ones((3,2))\n",
        "print(one_array)\n",
        "print(one_array.dtype, one_array.shape)"
      ],
      "metadata": {
        "colab": {
          "base_uri": "https://localhost:8080/"
        },
        "id": "-toffp9NATuy",
        "outputId": "ede2d912-1efe-44be-b4df-596f34243c2f"
      },
      "execution_count": 12,
      "outputs": [
        {
          "output_type": "stream",
          "name": "stdout",
          "text": [
            "[[0 0]\n",
            " [0 0]\n",
            " [0 0]]\n",
            "int32 (3, 2)\n",
            "[[1. 1.]\n",
            " [1. 1.]\n",
            " [1. 1.]]\n",
            "float64 (3, 2)\n"
          ]
        }
      ]
    },
    {
      "cell_type": "markdown",
      "source": [
        "zeros()와 ones()는 함수 인자로 튜플 형태의 shape값을 입력하면 모든 값을 0 또는 1로 채운 해당 shape를 가진 ndarray를 반환함.\n",
        "\n",
        "함수 인자를 정해주지않으면 ones()는 디폴트로 float64형의 데이터로 ndarray를 채움"
      ],
      "metadata": {
        "id": "1q9xrktVA3iX"
      }
    },
    {
      "cell_type": "markdown",
      "source": [
        "### ndarray의 차원과 크기를 변경하는 reshape()"
      ],
      "metadata": {
        "id": "qKOcY__mBNrM"
      }
    },
    {
      "cell_type": "code",
      "source": [
        "array1 = np.arange(10)\n",
        "print('array1:\\n', array1)\n",
        "\n",
        "array2 = array1.reshape(2,5)\n",
        "print('array2:\\n', array2)\n",
        "\n",
        "array3 = array1.reshape(5,2)\n",
        "print('array3:\\n', array3)"
      ],
      "metadata": {
        "colab": {
          "base_uri": "https://localhost:8080/"
        },
        "id": "6LaqQ50sAwXo",
        "outputId": "7cd22fea-b737-4d05-b5da-4636b20778fc"
      },
      "execution_count": 13,
      "outputs": [
        {
          "output_type": "stream",
          "name": "stdout",
          "text": [
            "array1:\n",
            " [0 1 2 3 4 5 6 7 8 9]\n",
            "array2:\n",
            " [[0 1 2 3 4]\n",
            " [5 6 7 8 9]]\n",
            "array3:\n",
            " [[0 1]\n",
            " [2 3]\n",
            " [4 5]\n",
            " [6 7]\n",
            " [8 9]]\n"
          ]
        }
      ]
    },
    {
      "cell_type": "code",
      "source": [
        "array1.reshape(4,3)"
      ],
      "metadata": {
        "colab": {
          "base_uri": "https://localhost:8080/",
          "height": 141
        },
        "id": "WZWSbw3jBgLB",
        "outputId": "4f9dc9b4-c7fc-468b-dbc0-3b005e5f47da"
      },
      "execution_count": 14,
      "outputs": [
        {
          "output_type": "error",
          "ename": "ValueError",
          "evalue": "cannot reshape array of size 10 into shape (4,3)",
          "traceback": [
            "\u001b[0;31m---------------------------------------------------------------------------\u001b[0m",
            "\u001b[0;31mValueError\u001b[0m                                Traceback (most recent call last)",
            "\u001b[0;32m<ipython-input-14-a40469ec5825>\u001b[0m in \u001b[0;36m<cell line: 1>\u001b[0;34m()\u001b[0m\n\u001b[0;32m----> 1\u001b[0;31m \u001b[0marray1\u001b[0m\u001b[0;34m.\u001b[0m\u001b[0mreshape\u001b[0m\u001b[0;34m(\u001b[0m\u001b[0;36m4\u001b[0m\u001b[0;34m,\u001b[0m\u001b[0;36m3\u001b[0m\u001b[0;34m)\u001b[0m\u001b[0;34m\u001b[0m\u001b[0;34m\u001b[0m\u001b[0m\n\u001b[0m",
            "\u001b[0;31mValueError\u001b[0m: cannot reshape array of size 10 into shape (4,3)"
          ]
        }
      ]
    },
    {
      "cell_type": "markdown",
      "source": [
        "지정된 사이즈로 변경이 불가능하면 오류를 발생"
      ],
      "metadata": {
        "id": "XU0OTDeeBjdE"
      }
    },
    {
      "cell_type": "markdown",
      "source": [
        "**reshape를 더욱 효율적으로 사용하는 방법**\n",
        "\n",
        "**인자로 -1**을 사용해 원래 ndarray와 호환되는 새로운 shape로 변환해줌"
      ],
      "metadata": {
        "id": "Ilg4FaQCBriY"
      }
    },
    {
      "cell_type": "code",
      "source": [
        "array1 = np.arange(10)\n",
        "print(array1)\n",
        "array2 = array1.reshape(-1,5)\n",
        "print('array2 shape:', array2.shape)\n",
        "array3 = array1.reshape(5,-1)\n",
        "print('array3 shape:', array3.shape)"
      ],
      "metadata": {
        "colab": {
          "base_uri": "https://localhost:8080/"
        },
        "id": "jOqpJExyBpYG",
        "outputId": "8d093beb-03af-4d4d-932d-08251e66cc8f"
      },
      "execution_count": 15,
      "outputs": [
        {
          "output_type": "stream",
          "name": "stdout",
          "text": [
            "[0 1 2 3 4 5 6 7 8 9]\n",
            "array2 shape: (2, 5)\n",
            "array3 shape: (5, 2)\n"
          ]
        }
      ]
    },
    {
      "cell_type": "markdown",
      "source": [
        "array1은 1차원 ndarray로 0 ~ 9까지의 데이터를 가짐.\n",
        "\n",
        "array2는 고정된 5개의 칼럼에 맞는 로우를 자동으로 새롭게 생성해 변환한 것.\n",
        "\n",
        "array3은 고정된 5개의 로우에 맞는 칼럼을 자동으로 새롭게 생성해 변환한 것.\n",
        "\n",
        "* 물론 -1을 사용하더라도 호환될 수 없는 형태는 변환할 수 없다!"
      ],
      "metadata": {
        "id": "jW_zZGSUCIuI"
      }
    },
    {
      "cell_type": "code",
      "source": [
        "array1 = np.arange(10)\n",
        "array4 = array1.reshape(-1,4)"
      ],
      "metadata": {
        "colab": {
          "base_uri": "https://localhost:8080/",
          "height": 158
        },
        "id": "33Perr8JCENS",
        "outputId": "b8762889-5388-49bf-fe57-b12add1078d3"
      },
      "execution_count": 16,
      "outputs": [
        {
          "output_type": "error",
          "ename": "ValueError",
          "evalue": "cannot reshape array of size 10 into shape (4)",
          "traceback": [
            "\u001b[0;31m---------------------------------------------------------------------------\u001b[0m",
            "\u001b[0;31mValueError\u001b[0m                                Traceback (most recent call last)",
            "\u001b[0;32m<ipython-input-16-07da9760475e>\u001b[0m in \u001b[0;36m<cell line: 2>\u001b[0;34m()\u001b[0m\n\u001b[1;32m      1\u001b[0m \u001b[0marray1\u001b[0m \u001b[0;34m=\u001b[0m \u001b[0mnp\u001b[0m\u001b[0;34m.\u001b[0m\u001b[0marange\u001b[0m\u001b[0;34m(\u001b[0m\u001b[0;36m10\u001b[0m\u001b[0;34m)\u001b[0m\u001b[0;34m\u001b[0m\u001b[0;34m\u001b[0m\u001b[0m\n\u001b[0;32m----> 2\u001b[0;31m \u001b[0marray4\u001b[0m \u001b[0;34m=\u001b[0m \u001b[0marray1\u001b[0m\u001b[0;34m.\u001b[0m\u001b[0mreshape\u001b[0m\u001b[0;34m(\u001b[0m\u001b[0;34m-\u001b[0m\u001b[0;36m1\u001b[0m\u001b[0;34m,\u001b[0m\u001b[0;36m4\u001b[0m\u001b[0;34m)\u001b[0m\u001b[0;34m\u001b[0m\u001b[0;34m\u001b[0m\u001b[0m\n\u001b[0m",
            "\u001b[0;31mValueError\u001b[0m: cannot reshape array of size 10 into shape (4)"
          ]
        }
      ]
    },
    {
      "cell_type": "markdown",
      "source": [
        "**reshape(-1,1)**"
      ],
      "metadata": {
        "id": "wnw0hI-SC1MO"
      }
    },
    {
      "cell_type": "code",
      "source": [
        "array1 = np.arange(8)\n",
        "array3d = array1.reshape((2,2,2))\n",
        "print('array3d:\\n', array3d.tolist())\n",
        "\n",
        "# 3차원 ndarray를 2차원 ndarray로 변환\n",
        "array5= array3d.reshape(-1,1)\n",
        "print('array5:\\n', array5.tolist())\n",
        "print('array5 shape:', array5.shape)\n",
        "\n",
        "# 1차원 ndarray를 2차원 ndarray로 변환\n",
        "array6 = array1.reshape(-1,1)\n",
        "print('array6:\\n', array6.tolist())\n",
        "print('array6 shape:', array6.shape)"
      ],
      "metadata": {
        "colab": {
          "base_uri": "https://localhost:8080/"
        },
        "id": "0Rw1ZJXCCif1",
        "outputId": "ce6ff980-cba1-404b-bd5a-6c66fe687654"
      },
      "execution_count": 17,
      "outputs": [
        {
          "output_type": "stream",
          "name": "stdout",
          "text": [
            "array3d:\n",
            " [[[0, 1], [2, 3]], [[4, 5], [6, 7]]]\n",
            "array5:\n",
            " [[0], [1], [2], [3], [4], [5], [6], [7]]\n",
            "array5 shape: (8, 1)\n",
            "array6:\n",
            " [[0], [1], [2], [3], [4], [5], [6], [7]]\n",
            "array6 shape: (8, 1)\n"
          ]
        }
      ]
    },
    {
      "cell_type": "markdown",
      "source": [
        "reshape(-1,1)은 원본 ndarray가 어떤 형태라도 2차원이고, 여러개의 로우를 가지되 반드시 1개의 칼럼을 가진 ndarray로 변환됨을 보장한다.\n",
        "\n",
        "-> 여러개의 넘파이 ndarray는 stack이나 concat으로 결합할 때 각각의 ndarray의 형태를 통일하며 유용하게 사용된다."
      ],
      "metadata": {
        "id": "bN98gcKPD1j8"
      }
    },
    {
      "cell_type": "markdown",
      "source": [
        "### Indexing : 넘파이의 ndarray의 데이터 세트 선택하기"
      ],
      "metadata": {
        "id": "G_TKC4apEHMD"
      }
    },
    {
      "cell_type": "markdown",
      "source": [
        "**1. 특정한 데이터만 추출**\n",
        ": 원하는 위치의 인덱스 값을 지정하면 해당 위치의 데이터가 반환됨\n",
        "\n",
        "**2. 슬라이싱**\n",
        ": 슬라이싱은 연속된 인덱스상의 ndarray를 추출하는 방식으로, 시작인덱스에서 종료인덱스 -1 위치에 있는 데이터를 반환함\n",
        "\n",
        "**3. 팬시 인덱싱**\n",
        ": 일정한 인덱싱 집합을 리스트 또는 ndarray 형태로 지정해 해당 위치에 있는 데이터의 ndarray를 반환함\n",
        "\n",
        "**4. 불린 인덱싱**\n",
        ": 특정 조건에 해당하는지 여부인 True/False 값 인덱싱 집합을 기반으로 해당하는 인덱스 위치에 있는 데이터의 ndarray를 반환"
      ],
      "metadata": {
        "id": "SGF4WlWeEMzx"
      }
    },
    {
      "cell_type": "markdown",
      "source": [
        "**단일 값 추출**"
      ],
      "metadata": {
        "id": "vIhTiRfeE2f2"
      }
    },
    {
      "cell_type": "code",
      "source": [
        "# 1부터 9까지의 1차원 ndarray 생성\n",
        "array1 = np.arange(start=1, stop=10)\n",
        "print('array1:', array1)\n",
        "\n",
        "#index는 0부터 시작하므로 array1[2]는 3번째 index 위치의 데이터값을 의미\n",
        "value = array1[2]\n",
        "print('value:', value)\n",
        "print(type(value))"
      ],
      "metadata": {
        "colab": {
          "base_uri": "https://localhost:8080/"
        },
        "id": "-cRgc8pTDgiG",
        "outputId": "bd4f08d1-291d-4440-aad2-5e2d9971d18b"
      },
      "execution_count": 18,
      "outputs": [
        {
          "output_type": "stream",
          "name": "stdout",
          "text": [
            "array1: [1 2 3 4 5 6 7 8 9]\n",
            "value: 3\n",
            "<class 'numpy.int64'>\n"
          ]
        }
      ]
    },
    {
      "cell_type": "code",
      "source": [
        "print('맨 뒤의 값:', array1[-1], '맨 뒤에서 두번째 값:', array1[-2])"
      ],
      "metadata": {
        "colab": {
          "base_uri": "https://localhost:8080/"
        },
        "id": "QSOQEEysFMoY",
        "outputId": "7ae39518-ead5-48b2-abe0-f0144c5f6e08"
      },
      "execution_count": 19,
      "outputs": [
        {
          "output_type": "stream",
          "name": "stdout",
          "text": [
            "맨 뒤의 값: 9 맨 뒤에서 두번째 값: 8\n"
          ]
        }
      ]
    },
    {
      "cell_type": "markdown",
      "source": [
        "인덱스에 마이너스 기호를 이용해 맨 뒤에서부터 데이터를 추출할 수 있다."
      ],
      "metadata": {
        "id": "vqygYGmqFZdE"
      }
    },
    {
      "cell_type": "code",
      "source": [
        "array1[0]= 9\n",
        "array1[8] = 0\n",
        "print('array1: ', array1)"
      ],
      "metadata": {
        "colab": {
          "base_uri": "https://localhost:8080/"
        },
        "id": "yyh-nFL9FYgG",
        "outputId": "0470891d-cb26-4e00-ed94-9042d7f6df2d"
      },
      "execution_count": 20,
      "outputs": [
        {
          "output_type": "stream",
          "name": "stdout",
          "text": [
            "array1:  [9 2 3 4 5 6 7 8 0]\n"
          ]
        }
      ]
    },
    {
      "cell_type": "markdown",
      "source": [
        "단일 인덱스를 활용해 데이터 값도 간단히 수정 가능"
      ],
      "metadata": {
        "id": "FbonWE4sFmSS"
      }
    },
    {
      "cell_type": "code",
      "source": [
        "# 다차원 ndarray에서 단일값을 추출\n",
        "\n",
        "array1d = np.arange(start=1, stop=10)\n",
        "array2d = array1d.reshape(3,3)\n",
        "print(array2d)\n",
        "\n",
        "print('(row=0, col=0) index 가리키는 값:', array2d[0,0])\n",
        "print('(row=0, col=1) index 가리키는 값:', array2d[0,1])\n",
        "print('(row=1, col=0) index 가리키는 값:', array2d[1,0])\n",
        "print('(row=2, col=2) index 가리키는 값:', array2d[2,2])"
      ],
      "metadata": {
        "colab": {
          "base_uri": "https://localhost:8080/"
        },
        "id": "SKf6AJbOFkqs",
        "outputId": "79109758-9e89-48a4-8add-05588096526d"
      },
      "execution_count": 21,
      "outputs": [
        {
          "output_type": "stream",
          "name": "stdout",
          "text": [
            "[[1 2 3]\n",
            " [4 5 6]\n",
            " [7 8 9]]\n",
            "(row=0, col=0) index 가리키는 값: 1\n",
            "(row=0, col=1) index 가리키는 값: 2\n",
            "(row=1, col=0) index 가리키는 값: 4\n",
            "(row=2, col=2) index 가리키는 값: 9\n"
          ]
        }
      ]
    },
    {
      "cell_type": "markdown",
      "source": [
        "**axis 0 : 로우방향의 축**\n",
        "**axis 1 : 칼럼방향의 축**"
      ],
      "metadata": {
        "id": "2xXdId-tGNRr"
      }
    },
    {
      "cell_type": "markdown",
      "source": [
        "**슬라이싱**"
      ],
      "metadata": {
        "id": "CXxwtjeNGaJp"
      }
    },
    {
      "cell_type": "markdown",
      "source": [
        "단일 데이터값 추출을 제외하고 슬라이싱, 팬시 인덱싱, 불린 인덱싱으로 추출된 데이터 세트는 모두 ndarray 타입."
      ],
      "metadata": {
        "id": "1VdvkYV3GdNT"
      }
    },
    {
      "cell_type": "code",
      "source": [
        "array1 = np.arange(start=1, stop=10)\n",
        "array3 = array1[0:3]\n",
        "print(array3)\n",
        "print(type(array3))"
      ],
      "metadata": {
        "colab": {
          "base_uri": "https://localhost:8080/"
        },
        "id": "4U2I7PjlGHsr",
        "outputId": "b06f4416-64a9-4954-8f13-22ccda6aa9d2"
      },
      "execution_count": 22,
      "outputs": [
        {
          "output_type": "stream",
          "name": "stdout",
          "text": [
            "[1 2 3]\n",
            "<class 'numpy.ndarray'>\n"
          ]
        }
      ]
    },
    {
      "cell_type": "code",
      "source": [
        "array1 = np.arange(start=1, stop=10)\n",
        "array4 = array1[:3]\n",
        "print(array4)\n",
        "\n",
        "array5 = array1[3:]\n",
        "print(array5)\n",
        "\n",
        "array6= array1[:]\n",
        "print(array6)"
      ],
      "metadata": {
        "colab": {
          "base_uri": "https://localhost:8080/"
        },
        "id": "dqhYdaLTGpwc",
        "outputId": "56cdc62f-4faf-4113-fa9f-56fdb7972265"
      },
      "execution_count": 23,
      "outputs": [
        {
          "output_type": "stream",
          "name": "stdout",
          "text": [
            "[1 2 3]\n",
            "[4 5 6 7 8 9]\n",
            "[1 2 3 4 5 6 7 8 9]\n"
          ]
        }
      ]
    },
    {
      "cell_type": "markdown",
      "source": [
        ": 기호 앞뒤에 시작/종료 인덱스를 생략하면 자동으로 맨 처음/ 맨 마지막 인덱스로 간주함."
      ],
      "metadata": {
        "id": "Nt_a78jPHApB"
      }
    },
    {
      "cell_type": "code",
      "source": [
        "# 2차원 ndarray에서 슬라이싱으로 데이터에 접근\n",
        "\n",
        "array1d = np.arange(start=1, stop=10) # 9까지\n",
        "array2d = array1d.reshape(3,3)\n",
        "print('array2d:\\n', array2d)\n",
        "\n",
        "print('array2d[0:2, 0:2]\\n',array2d[0:2, 0:2])\n",
        "print('array2d[1:3, 0:3]\\n',array2d[1:3, 0:3])\n",
        "print('array2d[1:3, :]\\n', array2d[1:3, :])\n",
        "print('array2d[:,:]\\n', array2d[:,:])\n",
        "print('array2d[:2, 1:]\\n', array2d[:2, 1:])\n",
        "print('array2d[:2, 0]\\n', array2d[:2,0])"
      ],
      "metadata": {
        "colab": {
          "base_uri": "https://localhost:8080/"
        },
        "id": "9G_jQUyOG6Om",
        "outputId": "5166827f-dd83-45ff-cafb-2b4a73ac2e3b"
      },
      "execution_count": 26,
      "outputs": [
        {
          "output_type": "stream",
          "name": "stdout",
          "text": [
            "array2d:\n",
            " [[1 2 3]\n",
            " [4 5 6]\n",
            " [7 8 9]]\n",
            "array2d[0:2, 0:2]\n",
            " [[1 2]\n",
            " [4 5]]\n",
            "array2d[1:3, 0:3]\n",
            " [[4 5 6]\n",
            " [7 8 9]]\n",
            "array2d[1:3, :]\n",
            " [[4 5 6]\n",
            " [7 8 9]]\n",
            "array2d[:,:]\n",
            " [[1 2 3]\n",
            " [4 5 6]\n",
            " [7 8 9]]\n",
            "array2d[:2, 1:]\n",
            " [[2 3]\n",
            " [5 6]]\n",
            "array2d[:2, 0]\n",
            " [1 4]\n"
          ]
        }
      ]
    },
    {
      "cell_type": "markdown",
      "source": [
        "2차원 ndarray에서 뒤에 오는 인덱스를 없애면 1차원 ndarray를 반환한다.\n",
        "\n",
        "3차원 ndarray에서 뒤에 오는 인덱스를 없애면 2차원 ndarray를 반환한다."
      ],
      "metadata": {
        "id": "VSYLOX2BH8fM"
      }
    },
    {
      "cell_type": "code",
      "source": [
        "print(array2d[0])\n",
        "print(array2d[1])\n",
        "print('array2d[0] shape:', array2d[0].reshape, 'array2d[1] shape:', array2d[1].shape)"
      ],
      "metadata": {
        "colab": {
          "base_uri": "https://localhost:8080/"
        },
        "id": "vLB8PQ1XHx_Q",
        "outputId": "ff824ceb-c2b6-4531-9004-e7ce30f4f69b"
      },
      "execution_count": 27,
      "outputs": [
        {
          "output_type": "stream",
          "name": "stdout",
          "text": [
            "[1 2 3]\n",
            "[4 5 6]\n",
            "array2d[0] shape: <built-in method reshape of numpy.ndarray object at 0x7ff6d9ec6b50> array2d[1] shape: (3,)\n"
          ]
        }
      ]
    },
    {
      "cell_type": "markdown",
      "source": [
        "**팬시 인덱싱**"
      ],
      "metadata": {
        "id": "0RP6dTuXIQ6O"
      }
    },
    {
      "cell_type": "code",
      "source": [
        "array1d = np.arange(start=1 , stop=10)\n",
        "array2d = array1d.reshape(3,3)\n",
        "\n",
        "array3 = array2d[[0,1],2]\n",
        "print('array2d[[0,1],2]=>',array3.tolist())\n",
        "\n",
        "array4 = array2d[[0,1], 0:2]\n",
        "print('array2d[[0,1], 0:2] =>', array4.tolist())\n",
        "\n",
        "array5 = array2d[[0,1]]\n",
        "print('array2d[[0,1]]=>', array5.tolist())"
      ],
      "metadata": {
        "colab": {
          "base_uri": "https://localhost:8080/"
        },
        "id": "7xKx90OHIPaI",
        "outputId": "5d1e7b0d-170c-4383-a672-d71671467b6f"
      },
      "execution_count": 28,
      "outputs": [
        {
          "output_type": "stream",
          "name": "stdout",
          "text": [
            "array2d[[0,1],2]=> [3, 6]\n",
            "array2d[[0,1], 0:2] => [[1, 2], [4, 5]]\n",
            "array2d[[0,1]]=> [[1, 2, 3], [4, 5, 6]]\n"
          ]
        }
      ]
    },
    {
      "cell_type": "markdown",
      "source": [
        "**불린 인덱싱**"
      ],
      "metadata": {
        "id": "4n0SDAVRJGPF"
      }
    },
    {
      "cell_type": "code",
      "source": [
        "array1d = np.arange(start=1, stop=10)\n",
        "array3 = array1d[array1d>5]\n",
        "print('array1d>5 불린 인덱싱 결과 값:', array3)"
      ],
      "metadata": {
        "colab": {
          "base_uri": "https://localhost:8080/"
        },
        "id": "LLXuy43xIz7N",
        "outputId": "44b61ffa-bf88-4b68-ca2f-b714287e5e8f"
      },
      "execution_count": 29,
      "outputs": [
        {
          "output_type": "stream",
          "name": "stdout",
          "text": [
            "array1d>5 불린 인덱싱 결과 값: [6 7 8 9]\n"
          ]
        }
      ]
    },
    {
      "cell_type": "code",
      "source": [
        "array1d>5"
      ],
      "metadata": {
        "colab": {
          "base_uri": "https://localhost:8080/"
        },
        "id": "7q6tN3b9JTST",
        "outputId": "e71c01a4-2396-4fbc-cb38-3318c971ec79"
      },
      "execution_count": 30,
      "outputs": [
        {
          "output_type": "execute_result",
          "data": {
            "text/plain": [
              "array([False, False, False, False, False,  True,  True,  True,  True])"
            ]
          },
          "metadata": {},
          "execution_count": 30
        }
      ]
    },
    {
      "cell_type": "markdown",
      "source": [
        "True값이 있는 위치 인덱스 값으로 자동 변환해 해당하는 인덱스 위치의 데이터만 반환하게 된다.\n"
      ],
      "metadata": {
        "id": "5WCHa1U5JfyJ"
      }
    },
    {
      "cell_type": "code",
      "source": [
        "boolean_index= np.array([False, False, False, False,False,True, True,True,True])\n",
        "array3 = array1d[boolean_index]\n",
        "print('불린 인덱스로 필터링 결과:', array3)"
      ],
      "metadata": {
        "colab": {
          "base_uri": "https://localhost:8080/"
        },
        "id": "iiClI9IDJWOU",
        "outputId": "8cfc4569-7797-449a-c957-e2799bb584a5"
      },
      "execution_count": 32,
      "outputs": [
        {
          "output_type": "stream",
          "name": "stdout",
          "text": [
            "불린 인덱스로 필터링 결과: [6 7 8 9]\n"
          ]
        }
      ]
    },
    {
      "cell_type": "code",
      "source": [
        "indexes = np.array([5,6,7,8])\n",
        "array4 = array1d[indexes]\n",
        "print('일반 인덱스로 필터링 결과:', array4)"
      ],
      "metadata": {
        "colab": {
          "base_uri": "https://localhost:8080/"
        },
        "id": "jVxbcDHGJ2n8",
        "outputId": "b3725346-95e8-49da-95bc-aa308482064e"
      },
      "execution_count": 33,
      "outputs": [
        {
          "output_type": "stream",
          "name": "stdout",
          "text": [
            "일반 인덱스로 필터링 결과: [6 7 8 9]\n"
          ]
        }
      ]
    },
    {
      "cell_type": "markdown",
      "source": [
        "**불린 인덱싱이 동작하는 단계**\n",
        "\n",
        "1. array1d>5와 같이 ndarray의 필터링 조건을 [] 안에 기재\n",
        "\n",
        "2. False 값은 무시, True 값에 해당하는 인덱스값만 저장\n",
        "\n",
        "3. 저장된 인덱스 데이터 세트로 ndarray 조회"
      ],
      "metadata": {
        "id": "5IO5C_KqKEN0"
      }
    },
    {
      "cell_type": "markdown",
      "source": [
        "### 행렬의 정렬 - sort(), argsort()"
      ],
      "metadata": {
        "id": "-i55safNKcQA"
      }
    },
    {
      "cell_type": "markdown",
      "source": [
        "**행렬 정렬**"
      ],
      "metadata": {
        "id": "GjwEz-x5Kgwb"
      }
    },
    {
      "cell_type": "markdown",
      "source": [
        "1) np.sort() : 원행렬은 그대로 유지, 원행렬의 정렬된 행렬을 반환\n",
        "\n",
        "2) ndarray.sort() : 원행렬 자체를 정렬한 형태로 변환, 반환값은 None"
      ],
      "metadata": {
        "id": "w07GHqIIKpKo"
      }
    },
    {
      "cell_type": "code",
      "source": [
        "org_array = np.array([3,1,9,5])\n",
        "print('원본 행렬:', org_array)\n",
        "\n",
        "# np.sort()로 정렬\n",
        "sort_array1 = np.sort(org_array)\n",
        "print('np.sort() 호출 후 반환된 정렬 행렬:', sort_array1)\n",
        "print('np.sort() 호출 후 원본 행렬:', org_array)\n",
        "\n",
        "# ndarray.sort()로 정렬\n",
        "sort_array2 = org_array.sort()\n",
        "print('org_array.sort() 호출 후 반환된 행렬:', sort_array2)\n",
        "print('org_array.sort() 호출 후 원본 행렬:', org_array)"
      ],
      "metadata": {
        "colab": {
          "base_uri": "https://localhost:8080/"
        },
        "id": "s39TGl_pKB9I",
        "outputId": "41406f2d-0c5c-4cc0-9add-e88c8d69551b"
      },
      "execution_count": 35,
      "outputs": [
        {
          "output_type": "stream",
          "name": "stdout",
          "text": [
            "원본 행렬: [3 1 9 5]\n",
            "np.sort() 호출 후 반환된 정렬 행렬: [1 3 5 9]\n",
            "np.sort() 호출 후 원본 행렬: [3 1 9 5]\n",
            "org_array.sort() 호출 후 반환된 행렬: None\n",
            "org_array.sort() 호출 후 원본 행렬: [1 3 5 9]\n"
          ]
        }
      ]
    },
    {
      "cell_type": "markdown",
      "source": [
        "**내림차순으로 정렬 : [::-1]**"
      ],
      "metadata": {
        "id": "X3vUsJ1WLzrS"
      }
    },
    {
      "cell_type": "code",
      "source": [
        "sort_array1_desc = np.sort(org_array)[::-1]\n",
        "print('내림차순으로 정렬:', sort_array1_desc)"
      ],
      "metadata": {
        "colab": {
          "base_uri": "https://localhost:8080/"
        },
        "id": "_ZqiqO3FLJjE",
        "outputId": "70600dad-3258-4640-c689-1a7bbc274c90"
      },
      "execution_count": 36,
      "outputs": [
        {
          "output_type": "stream",
          "name": "stdout",
          "text": [
            "내림차순으로 정렬: [9 5 3 1]\n"
          ]
        }
      ]
    },
    {
      "cell_type": "code",
      "source": [
        "array2d = np.array([[8,12],\n",
        "                    [7,1]])\n",
        "\n",
        "sort_array2d_axis0 = np.sort(array2d, axis=0)\n",
        "print('로우 방향으로 정렬:\\n', sort_array2d_axis0)\n",
        "\n",
        "sort_array2d_axis1 = np.sort(array2d, axis=1)\n",
        "print('칼럼 방향으로 정렬:\\n', sort_array2d_axis1)"
      ],
      "metadata": {
        "colab": {
          "base_uri": "https://localhost:8080/"
        },
        "id": "1pN0SHyBL-wP",
        "outputId": "21f19b8f-df8d-44ea-fe9b-e1360e1b5aa0"
      },
      "execution_count": 37,
      "outputs": [
        {
          "output_type": "stream",
          "name": "stdout",
          "text": [
            "로우 방향으로 정렬:\n",
            " [[ 7  1]\n",
            " [ 8 12]]\n",
            "칼럼 방향으로 정렬:\n",
            " [[ 8 12]\n",
            " [ 1  7]]\n"
          ]
        }
      ]
    },
    {
      "cell_type": "markdown",
      "source": [
        "**정렬된 행렬의 인덱스를 반환하기**"
      ],
      "metadata": {
        "id": "Mfzb4f3SMbih"
      }
    },
    {
      "cell_type": "markdown",
      "source": [
        "np.argsort()"
      ],
      "metadata": {
        "id": "jXwXGxucMgOk"
      }
    },
    {
      "cell_type": "code",
      "source": [
        "org_array = np.array([3,1,9,5])\n",
        "sort_indices= np.argsort(org_array)\n",
        "print(type(sort_indices))\n",
        "print('행렬 정렬 시 원본 행렬의 인덱스:', sort_indices)"
      ],
      "metadata": {
        "colab": {
          "base_uri": "https://localhost:8080/"
        },
        "id": "5HdXBCmvMXDH",
        "outputId": "5a8feae4-d7c1-4396-c53d-0976741f2074"
      },
      "execution_count": 38,
      "outputs": [
        {
          "output_type": "stream",
          "name": "stdout",
          "text": [
            "<class 'numpy.ndarray'>\n",
            "행렬 정렬 시 원본 행렬의 인덱스: [1 0 3 2]\n"
          ]
        }
      ]
    },
    {
      "cell_type": "code",
      "source": [
        "org_array = np.array([3,1,9,5])\n",
        "sort_indices_desc = np.argsort(org_array)[::-1]\n",
        "print('행렬 내림차순 정렬 시 원본 행렬의 인덱스:', sort_indices_desc)"
      ],
      "metadata": {
        "colab": {
          "base_uri": "https://localhost:8080/"
        },
        "id": "Njjqne1MMtsU",
        "outputId": "f7254501-7db6-4cbf-be89-86cc19015438"
      },
      "execution_count": 39,
      "outputs": [
        {
          "output_type": "stream",
          "name": "stdout",
          "text": [
            "행렬 내림차순 정렬 시 원본 행렬의 인덱스: [2 3 0 1]\n"
          ]
        }
      ]
    },
    {
      "cell_type": "markdown",
      "source": [
        "넘파이의 ndarray는 메타 데이터를 가질 수 없다.\n",
        "\n",
        "np.argsort()를 이용해 반환된 인덱스를 name_array에 팬시 인덱스로 적용해 추출할 수 있다."
      ],
      "metadata": {
        "id": "D9ukeKSNNJe7"
      }
    },
    {
      "cell_type": "code",
      "source": [
        "import numpy as np\n",
        "\n",
        "name_array = np.array(['John', 'Mike', 'Sarah', 'Kate', 'Samuel'])\n",
        "score_array= np.array([78,95,84, 98, 88])\n",
        "\n",
        "sort_indices_asc = np.argsort(score_array)\n",
        "print('성적 오름차순 정렬 시 score_array의 인덱스:', sort_indices_asc)\n",
        "print('성적 오름차순으로 name_array의 이름 출력:', name_array[sort_indices_asc])"
      ],
      "metadata": {
        "colab": {
          "base_uri": "https://localhost:8080/"
        },
        "id": "JOLzzEHCND4i",
        "outputId": "692d96a2-e567-4993-cb66-05838de6c699"
      },
      "execution_count": 42,
      "outputs": [
        {
          "output_type": "stream",
          "name": "stdout",
          "text": [
            "성적 오름차순 정렬 시 score_array의 인덱스: [0 2 4 1 3]\n",
            "성적 오름차순으로 name_array의 이름 출력: ['John' 'Sarah' 'Samuel' 'Mike' 'Kate']\n"
          ]
        }
      ]
    },
    {
      "cell_type": "markdown",
      "source": [
        "###선형대수 연산 - 행렬 내적과 전치 행렬 구하기"
      ],
      "metadata": {
        "id": "4BKpQKWpOFcj"
      }
    },
    {
      "cell_type": "markdown",
      "source": [
        "행렬 내적 : np.dot()"
      ],
      "metadata": {
        "id": "Y4HW_z_gOLNc"
      }
    },
    {
      "cell_type": "code",
      "source": [
        "A = np.array([[1,2,3],\n",
        "              [4,5,6]])\n",
        "B = np.array([[7,8],\n",
        "              [9,10],\n",
        "              [11,12]])\n",
        "\n",
        "dot_product = np.dot(A,B)\n",
        "print('행렬  내적 결과:\\n', dot_product)"
      ],
      "metadata": {
        "colab": {
          "base_uri": "https://localhost:8080/"
        },
        "id": "xLTeDLZTN4vq",
        "outputId": "4c679ebe-60cd-47cc-8966-690d09866635"
      },
      "execution_count": 43,
      "outputs": [
        {
          "output_type": "stream",
          "name": "stdout",
          "text": [
            "행렬  내적 결과:\n",
            " [[ 58  64]\n",
            " [139 154]]\n"
          ]
        }
      ]
    },
    {
      "cell_type": "markdown",
      "source": [
        "전치 행렬"
      ],
      "metadata": {
        "id": "x1d_qWXlO3zw"
      }
    },
    {
      "cell_type": "code",
      "source": [
        "A = np.array([[1,2],\n",
        "              [3,4]])\n",
        "transpose_mat = np.transpose(A)\n",
        "print('A의 전치행렬:\\n', transpose_mat)"
      ],
      "metadata": {
        "colab": {
          "base_uri": "https://localhost:8080/"
        },
        "id": "o5x8splRO1_Q",
        "outputId": "73c8e1fc-ddde-413e-b328-ccdff7e7884a"
      },
      "execution_count": 44,
      "outputs": [
        {
          "output_type": "stream",
          "name": "stdout",
          "text": [
            "A의 전치행렬:\n",
            " [[1 3]\n",
            " [2 4]]\n"
          ]
        }
      ]
    },
    {
      "cell_type": "code",
      "source": [],
      "metadata": {
        "id": "glZXnVF7PFU8"
      },
      "execution_count": null,
      "outputs": []
    }
  ]
}